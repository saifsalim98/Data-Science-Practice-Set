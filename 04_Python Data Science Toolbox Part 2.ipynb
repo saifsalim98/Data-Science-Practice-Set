{
 "cells": [
  {
   "cell_type": "markdown",
   "metadata": {},
   "source": [
    "1. ```Python\n",
    "flash = ['jay garrick', 'barry allen', 'wally west', 'bart allen']\n",
    "```\n",
    "  - Print each list item in flash using a for loop\n",
    "  - Create an iterator for flash: superspeed and then print each item from the iterator"
   ]
  },
  {
   "cell_type": "markdown",
   "metadata": {},
   "source": [
    "#### Not all iterables are actual lists. `range()` doesn't actually create the list; instead, it creates a range object with an iterator that produces the values until it reaches the limit."
   ]
  },
  {
   "cell_type": "markdown",
   "metadata": {},
   "source": [
    "2. Create a list of strings: mutants\n",
    "```Python\n",
    "mutants = ['charles xavier', \n",
    "            'bobby drake', \n",
    "            'kurt wagner', \n",
    "            'max eisenhardt', \n",
    "            'kitty pryde']\n",
    "```\n",
    "  - Print the elements of `mutants` along with their index.\n",
    "  - Start the index from 1"
   ]
  },
  {
   "cell_type": "markdown",
   "metadata": {},
   "source": [
    "3. ```Python\n",
    "mutants = ['charles xavier','bobby drake','kurt wagner','max eisenhardt','kitty pryde']\n",
    "aliases = ['prof x','iceman','nightcrawler','magneto','shadowcat']\n",
    "powers = ['telepathy','thermokinesis','teleportation','magnetokinesis','intangibility']\n",
    "```\n",
    "  - Map the similar index of multiple lists given above so that they can be used just using as single entity.\n",
    "  - Print the values from newly formed entity, eg. `charles xavier prof x telepathy`\n",
    "  - Print the tuples by unpacking the zipped object\n",
    "  - Unzip the lists from the zipped object"
   ]
  },
  {
   "cell_type": "markdown",
   "metadata": {},
   "source": [
    "4. Define the function `count_entries()` for Tweeter data problem to count number of distinct values in a column. The function has 3 parameters. The first parameter is `csv_file` for the filename, the second is `c_size` for the chunk size, and the last is `colname` for the column name.\n"
   ]
  },
  {
   "cell_type": "markdown",
   "metadata": {},
   "source": [
    "5. - Write a list comprehension that produces a list of numbers consisting of the squared values of i\n",
    "   - Create a 5 x 5 matrix using a list of lists: matrix\n",
    "   ```Python\n",
    "    matrix = [[0, 1, 2, 3, 4],\n",
    "               [0, 1, 2, 3, 4],\n",
    "               [0, 1, 2, 3, 4],\n",
    "               [0, 1, 2, 3, 4],\n",
    "               [0, 1, 2, 3, 4]]\n",
    "```\n",
    "   - You are given a list of strings fellowship and, using a list comprehension, you will create a list that only includes the members of fellowship that have 7 characters or more.\n",
    "```Python\n",
    "fellowship = ['frodo', 'samwise', 'merry', 'aragorn', 'legolas', 'boromir', 'gimli']\n",
    "```\n",
    "   - Create a list that keeps members of fellowship with 7 or more characters and replaces others with an empty string.\n",
    "   - Using a dict comprehension, create a dictionary with the members of the list as the keys and the length of each string as the corresponding values."
   ]
  },
  {
   "cell_type": "markdown",
   "metadata": {},
   "source": [
    "Iterator is a more general concept: any object whose class has a `next` method and an `iter` method that does return self.\n",
    "\n",
    "**Every generator is an iterator, but not vice versa.** A generator is built by calling a function that has one or more yield  statements, and is an object that meets the definition of an iterator. (Previous Paragraph)\n",
    "\n",
    "For example, a generator such as:\n",
    "```Python\n",
    "def squares(start, stop):\n",
    "    for i in range(start, stop):\n",
    "        yield i * i\n",
    "generator = squares(10, 20)\n",
    "```\n",
    "or the equivalent generator expression (genexp)\n",
    "```Python\n",
    "generator = (i*i for i in range(10, 20))\n",
    "```\n",
    "\n",
    "-------\n",
    "- A list comprehension produces a list as output, a generator produces a generator object.\n",
    "- When iterating over a dictionary with .items(), or using the range() function,  Python creates generators for you behind the scenes. \n",
    "- The type of `range(10)` is a `range` object and the type of `dict.items()` is `dict_items` object\n",
    "- `range(10)` and `dict.items()` are iterables because they produces `range_iterator` and `dict_itemiterator` objects when called by the `iter()` method. But, the `genrator` did not produces any iterator object because generator itself is an iterator."
   ]
  },
  {
   "cell_type": "code",
   "execution_count": 16,
   "metadata": {
    "scrolled": true
   },
   "outputs": [
    {
     "name": "stdout",
     "output_type": "stream",
     "text": [
      "0\n",
      "25\n",
      "36\n",
      "49\n",
      "64\n",
      "81\n",
      "<class 'dict_items'>\n",
      "<dict_itemiterator object at 0x000002630A72FD18>\n",
      "<range_iterator object at 0x000002630A68AA10>\n",
      "<generator object <genexpr> at 0x000002630A7510C0>\n",
      "100\n"
     ]
    }
   ],
   "source": [
    "y = range(10)\n",
    "i = iter(y)\n",
    "print(next(i))\n",
    "\n",
    "for x in (i*i for i in range(5, 10)):\n",
    "    print(x)\n",
    "    \n",
    "d = {1:'hello', 2:'bello'}\n",
    "print(type(d.items()))\n",
    "print(iter(d.items()))\n",
    "print(iter(range(10)))\n",
    "print(iter((i*i for i in range(10, 20))))\n",
    "print(next((i*i for i in range(10, 20))))"
   ]
  },
  {
   "cell_type": "markdown",
   "metadata": {},
   "source": [
    "```Python\n",
    "lannister = ['cersei', 'jaime', 'tywin', 'tyrion', 'joffrey']\n",
    "```\n",
    "6. - Write a generator expression that will generate the lengths of each string in lannister\n",
    "   - Create a generator function with a similar mechanism as the generator expression you defined above"
   ]
  },
  {
   "cell_type": "markdown",
   "metadata": {},
   "source": [
    "7. - Use a list comprehension to extract the time from time-stamped Twitter data : tweet_time.\n",
    "   - Extract time-stamp for which value of seconds stamp is 19"
   ]
  },
  {
   "cell_type": "markdown",
   "metadata": {},
   "source": [
    "8. ```Python\n",
    "feature_names = ['CountryName','CountryCode','IndicatorName','IndicatorCode','Year','Value']\n",
    "row_vals = ['Arab World',\n",
    "'ARB','Adolescent fertility rate (births per 1,000 women ages 15-19)',\n",
    "'SP.ADO.TFRT','1960','133.56090740552298']\n",
    "row_lists = [['Arab World',\n",
    "  'ARB',\n",
    "  'Adolescent fertility rate (births per 1,000 women ages 15-19)',\n",
    "  'SP.ADO.TFRT',\n",
    "  '1960',\n",
    "  '133.56090740552298'],\n",
    " ['Arab World',\n",
    "  'ARB',\n",
    "  'Age dependency ratio (% of working-age population)',\n",
    "  'SP.POP.DPND',\n",
    "  '1960',\n",
    "  '87.7976011532547'],\n",
    " ['Arab World',\n",
    "  'ARB',\n",
    "  'Age dependency ratio, old (% of working-age population)',\n",
    "  'SP.POP.DPND.OL',\n",
    "  '1960',\n",
    "  '6.634579191565161'],\n",
    "  ['Arab World',\n",
    "  'ARB',\n",
    "  'CO2 emissions (kt)',\n",
    "  'EN.ATM.CO2E.KT',\n",
    "  '1960',\n",
    "  '59563.9892169935'],\n",
    " ['Arab World',\n",
    "  'ARB',\n",
    "  'CO2 emissions (metric tons per capita)',\n",
    "  'EN.ATM.CO2E.PC',\n",
    "  '1960',\n",
    "  '0.6439635478877049']]\n",
    "```\n",
    "  - Write a function which takes two lists as input and return a dictionary where list1 provides the keys and list2 provides the values. Call the lists2dict() function with the arguments feature_names and row_vals. Assign the result of the function call to rs_fxn\n",
    "  - Use a list comprehension `lists_of_dicts` to generate a list of dicts, where the keys are the header names and the values are the row entries.\n",
    "  - Turn the `lists_of_dicts` into dataframe "
   ]
  },
  {
   "cell_type": "markdown",
   "metadata": {},
   "source": [
    "9. - You will process the first 1000 rows of a file `world_dev_ind.csv` line by line, to create a `dictionary` of the counts of how many times each country appears in a column in the dataset. Skip the first row which represent column names. Split the current line into list. Use the value of only `column[0]` to check the counts.\n",
    "   - Define a generator function `read_large_file()` that produces a generator object which yields a single line from a file each time next() is called on it. First open a connection between `world_dev_ind.csv` as `file` and then pass the `file` to the function.\n",
    "   - Now using the generator function, solve the same scenario stated in point 1 for the entire csv file.\n",
    "   "
   ]
  },
  {
   "cell_type": "markdown",
   "metadata": {},
   "source": [
    "10.  - Read in a file `ind_pop_data.csv` using a chunk size = 1000, use `df_pop_reader` as generator name, and then process the data from the first chunk `df_urb_pop`. Create another DataFrame `df_pop_ceb` composed of only the rows from a specific country. Filter values in `CountryCode` column equals to `CEB`. Then zip together two of the columns from the new DataFrame, 'Total Population' and 'Urban population (% of total)'. Finally, create a list of tuples `pop_list` from the zip object, where each tuple is composed of a value from each of the two columns mentioned. \n",
    "     - Use list comprehension to create new DataFrame column 'Total Urban Population in `df_pop_ceb`.\n",
    "     - Using the scenarios given above, create a new dataframe `data` and append the `df_pop_ceb` dataframe for every chunks of data. Also plot the `urban population data` vs `year` graph.\n",
    "     - Define the function `plot_pop()` which takes two arguments: the filename of the file to be processed, and the country code of the rows you want to process in the dataset. Because all of the previous code you've written in the previous exercises will be housed in plot_pop(), calling the function already does the following: \n",
    "         - Loading of the file chunk by chunk,\n",
    "         - Creating the new column of urban population values, and\n",
    "         - Plotting the urban population data."
   ]
  }
 ],
 "metadata": {
  "kernelspec": {
   "display_name": "Python 3",
   "language": "python",
   "name": "python3"
  },
  "language_info": {
   "codemirror_mode": {
    "name": "ipython",
    "version": 3
   },
   "file_extension": ".py",
   "mimetype": "text/x-python",
   "name": "python",
   "nbconvert_exporter": "python",
   "pygments_lexer": "ipython3",
   "version": "3.7.3"
  }
 },
 "nbformat": 4,
 "nbformat_minor": 2
}
