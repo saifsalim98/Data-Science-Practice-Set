{
 "cells": [
  {
   "cell_type": "markdown",
   "metadata": {},
   "source": [
    "# Introduction to Python"
   ]
  },
  {
   "cell_type": "markdown",
   "metadata": {},
   "source": [
    "### Python Basics\n",
    "___"
   ]
  },
  {
   "cell_type": "markdown",
   "metadata": {},
   "source": [
    "1. `areas = [\"hallway\", 11.25, \"kitchen\", 18.0, \"living room\", 20.0, \"bedroom\", 10.75, \"bathroom\", 9.50]`\n",
    "  - Update the area of the bathroom area to be 10.50 square meters instead of 9.50.\n",
    "  - Change \"living room\" to \"chill zone\"\n",
    "  - Extend the list `[\"poolhouse\", 24.5]` to the end of the areas list. Store the resulting list as areas_1.\n",
    "  - Extend areas_1 by adding data on your garage. Add the string `\"garage\"` and float `15.45`. Name the resulting list areas_2.\n",
    "  - Delete the last two entry in the list (string `\"garage\"` and float `15.45`)\n",
    "  - Copy the entire list `areas_2` in `areas_3`, `areas_4` and `area_5` using three diffent ways."
   ]
  },
  {
   "cell_type": "code",
   "execution_count": 17,
   "metadata": {},
   "outputs": [
    {
     "name": "stdout",
     "output_type": "stream",
     "text": [
      "['hallway', 11.25, 'kitchen', 18.0, 'living room', 20.0, 'bedroom', 10.75, 'bathroom', 10.5]\n",
      "['hallway', 11.25, 'kitchen', 18.0, 'chill zone', 20.0, 'bedroom', 10.75, 'bathroom', 10.5]\n",
      "['hallway', 11.25, 'kitchen', 18.0, 'chill zone', 20.0, 'bedroom', 10.75, 'bathroom', 10.5, 'poolhouse', 24.5]\n",
      "['hallway', 11.25, 'kitchen', 18.0, 'chill zone', 20.0, 'bedroom', 10.75, 'bathroom', 10.5, 'poolhouse', 24.5, 'garage', 15.45]\n",
      "['hallway', 11.25, 'kitchen', 18.0, 'chill zone', 20.0, 'bedroom', 10.75, 'bathroom', 10.5, 'poolhouse', 24.5, 'garage']\n",
      "['hallway', 11.25, 'kitchen', 18.0, 'chill zone', 20.0, 'bedroom', 10.75, 'bathroom', 10.5, 'poolhouse', 24.5]\n",
      "['hallway', 11.25, 'kitchen', 18.0, 'chill zone', 20.0, 'bedroom', 10.75, 'bathroom', 10.5, 'poolhouse', 24.5]\n",
      "['hallway', 11.25, 'kitchen', 18.0, 'chill zone', 20.0, 'bedroom', 10.75, 'bathroom', 10.5, 'poolhouse', 24.5]\n",
      "['hallway', 11.25, 'kitchen', 18.0, 'chill zone', 20.0, 'bedroom', 10.75, 'bathroom', 10.5, 'poolhouse', 24.5]\n"
     ]
    }
   ],
   "source": [
    "areas = [\"hallway\", 11.25, \"kitchen\", 18.0, \"living room\", 20.0, \"bedroom\", 10.75, \"bathroom\", 9.50]\n",
    "areas[-1] = 10.50\n",
    "print(areas)\n",
    "areas[4] = \"chill zone\"\n",
    "print(areas)\n",
    "areas_1 = areas + [\"poolhouse\", 24.5]\n",
    "print(areas_1)\n",
    "areas_2 = areas_1 + [\"garage\", 15.45]\n",
    "print(areas_2)\n",
    "del(areas_2[-1])\n",
    "print(areas_2)\n",
    "del(areas_2[-1])\n",
    "print(areas_2)\n",
    "areas_3 = list(areas_2)\n",
    "print(areas_3)\n",
    "areas_4 = areas_2[:]\n",
    "print(areas_4)\n",
    "areas_5 = areas_2.copy()\n",
    "print(areas_5)"
   ]
  },
  {
   "cell_type": "markdown",
   "metadata": {},
   "source": [
    "2. `first = [11.25, 18.0, 20.0]`;\n",
    "`second = [10.75, 9.50, 20.0]`\n",
    "  - Concatenate both the list : `full`\n",
    "  - Print the index of 20.0\n",
    "  - Print out how often 20.0 appears\n",
    "  - Append 24.5 and 15.4\n",
    "  - Reverse the list\n",
    "  - Sort the list `full` in both ascending and descending order in place\n",
    "  - Sort the list `full` in both ascending and descending order : `full_a` and `full_d`"
   ]
  },
  {
   "cell_type": "markdown",
   "metadata": {},
   "source": [
    "### Using `append` and passing a list will add the list as single object. But using `extend` and passing a list will add the values of the list in the preious list"
   ]
  },
  {
   "cell_type": "code",
   "execution_count": 45,
   "metadata": {
    "scrolled": true
   },
   "outputs": [
    {
     "name": "stdout",
     "output_type": "stream",
     "text": [
      "2\n",
      "2\n",
      "[11.25, 18.0, 20.0, 10.75, 9.5, 20.0, 24.5, 15.4]\n",
      "[11.25, 18.0, 20.0, 10.75, 9.5, 20.0, 24.5, 15.4, [24.5, 15.4]]\n",
      "[11.25, 18.0, 20.0, 10.75, 9.5, 20.0, 24.5, 15.4]\n",
      "[11.25, 18.0, 20.0, 10.75, 9.5, 20.0, 24.5, 15.4, 24.5, 15.4]\n",
      "[15.4, 24.5, 15.4, 24.5, 20.0, 9.5, 10.75, 20.0, 18.0, 11.25]\n",
      "[9.5, 10.75, 11.25, 15.4, 15.4, 18.0, 20.0, 20.0, 24.5, 24.5]\n",
      "[24.5, 24.5, 20.0, 20.0, 18.0, 15.4, 15.4, 11.25, 10.75, 9.5]\n",
      "[9.5, 10.75, 11.25, 15.4, 15.4, 18.0, 20.0, 20.0, 24.5, 24.5]\n",
      "[24.5, 24.5, 20.0, 20.0, 18.0, 15.4, 15.4, 11.25, 10.75, 9.5]\n"
     ]
    }
   ],
   "source": [
    "first = [11.25, 18.0, 20.0]\n",
    "second = [10.75, 9.50, 20.0]\n",
    "full = first + second\n",
    "print(full.index(20))\n",
    "print(full.count(20))\n",
    "full.append(24.5)\n",
    "full.append(15.4)\n",
    "print(full)\n",
    "full.append([24.5, 15.4])\n",
    "print(full)\n",
    "del(full[-1])\n",
    "print(full)\n",
    "full.extend([24.5, 15.4])\n",
    "print(full)\n",
    "full.reverse()\n",
    "print(full)\n",
    "full.sort()\n",
    "print(full)\n",
    "full.sort(reverse=True)\n",
    "print(full)\n",
    "full_a = sorted(full)\n",
    "print(full_a)\n",
    "full_d = sorted(full, reverse=True)\n",
    "print(full_d)"
   ]
  },
  {
   "cell_type": "markdown",
   "metadata": {},
   "source": [
    "3. `place = \"poolhouse\"`\n",
    "  - Convert each letters into uppercase\n",
    "  - Count the number of 'o' in the string"
   ]
  },
  {
   "cell_type": "code",
   "execution_count": 50,
   "metadata": {},
   "outputs": [
    {
     "name": "stdout",
     "output_type": "stream",
     "text": [
      "POOLHOUSE\n",
      "3\n"
     ]
    }
   ],
   "source": [
    "place = \"poolhouse\"\n",
    "place_upper = place.upper()\n",
    "print(place_upper)\n",
    "print(place.count('o'))"
   ]
  },
  {
   "cell_type": "markdown",
   "metadata": {},
   "source": [
    "4. radius `r = 0.43`\n",
    "  - Calculate the area and circumference of the circle: `area`, `circumference`\n",
    "  - Round both the result upto 2 decimal points: `area_r`, `circumference_2`"
   ]
  },
  {
   "cell_type": "code",
   "execution_count": 62,
   "metadata": {},
   "outputs": [
    {
     "name": "stdout",
     "output_type": "stream",
     "text": [
      "0.5808804816487527\n",
      "2.701769682087222\n",
      "0.58\n",
      "2.7\n"
     ]
    }
   ],
   "source": [
    "import math\n",
    "r = 0.43\n",
    "area = math.pi  * r * r\n",
    "print(area)\n",
    "circumference = 2 * math.pi * r\n",
    "print(circumference)\n",
    "print(round(area,2))\n",
    "print(round(circumference,2))"
   ]
  },
  {
   "cell_type": "markdown",
   "metadata": {},
   "source": [
    "5. `baseball = [180, 215, 210, 210, 188, 176, 209, 200]`\n",
    "  - Create a numpy array from baseball: `np_baseball`\n",
    "  - Print out type of np_baseball\n",
    "  - Add 5 to all the elements in np_baseball\n",
    "  - Print out the element at index 5\n",
    "  - Print out sub-array of np_baseball: index 2 up to and including index 4"
   ]
  },
  {
   "cell_type": "code",
   "execution_count": 69,
   "metadata": {},
   "outputs": [
    {
     "name": "stdout",
     "output_type": "stream",
     "text": [
      "<class 'numpy.ndarray'>\n",
      "[185 220 215 215 193 181 214 205]\n",
      "176\n",
      "[210 210 188]\n"
     ]
    }
   ],
   "source": [
    "baseball = [180, 215, 210, 210, 188, 176, 209, 200]\n",
    "import numpy as np\n",
    "np_baseball = np.array(baseball)\n",
    "print(type(np_baseball))\n",
    "print(np_baseball + 5)\n",
    "print(np_baseball[5])\n",
    "print(np_baseball[2:5])"
   ]
  },
  {
   "cell_type": "markdown",
   "metadata": {},
   "source": [
    "6. `height`(inch), `weight`(lb) is available as a regular list.\n",
    "  - Create a numpy array: np_height_in\n",
    "  - Convert np_height_in to metre: np_height_m by multiplying 0.0254\n",
    "  - Calculate BMI : np_bmi : weight(kg) / height(m)^2 : ld to kg = multiply by 0.453592\n",
    "  - Print out a numpy array with the BMIs of all baseball players whose BMI is below 21.\n",
    "\n",
    "```Python\n",
    "import pandas as pd\n",
    "df = pd.read_csv(\"C:\\\\Users\\\\saifs\\\\Desktop\\\\data_science\\\\datasets\\\\baseball.csv\")\n",
    "height = list(df['Height']) \n",
    "weight = list(df['Weight'])\n",
    "```"
   ]
  },
  {
   "cell_type": "code",
   "execution_count": 80,
   "metadata": {},
   "outputs": [
    {
     "name": "stdout",
     "output_type": "stream",
     "text": [
      "[23.11037639 27.60406069 28.48080465 ... 25.62295933 23.74810865\n",
      " 25.72686361]\n",
      "[20.54255679 20.54255679 20.69282047 20.69282047 20.34343189 20.34343189\n",
      " 20.69282047 20.15883472 19.4984471  20.69282047 20.9205219 ]\n",
      "11\n"
     ]
    }
   ],
   "source": [
    "import pandas as pd\n",
    "df = pd.read_csv(\"C:\\\\Users\\\\saifs\\\\Desktop\\\\data_science\\\\datasets\\\\baseball.csv\")\n",
    "height = list(df['Height']) \n",
    "weight = list(df['Weight'])\n",
    "np_height_in = np.array(height)\n",
    "np_weight_lb = np.array(weight)\n",
    "np_height_m = np_height_in * 0.0254\n",
    "np_weight_kg = np_weight_lb * 0.453592\n",
    "bmi = np_weight_kg / (np_height_m ** 2)\n",
    "print(bmi)\n",
    "bmi_less_than_21 = bmi[bmi<21]\n",
    "print(bmi_less_than_21)\n",
    "print(len(bmi_less_than_21))"
   ]
  },
  {
   "cell_type": "markdown",
   "metadata": {},
   "source": [
    "7. numpy arrays cannot contain elements with different types. If you try to build such a list, some of the elements' types are changed to end up with a homogeneous list. This is known as type coercion.\n",
    "  - Output of `np.array([True, 1, 2]) + np.array([3, 4, False])`?"
   ]
  },
  {
   "cell_type": "code",
   "execution_count": 81,
   "metadata": {},
   "outputs": [
    {
     "name": "stdout",
     "output_type": "stream",
     "text": [
      "[4 5 2]\n"
     ]
    }
   ],
   "source": [
    "print(np.array([True, 1, 2]) + np.array([3, 4, False]))"
   ]
  },
  {
   "cell_type": "markdown",
   "metadata": {},
   "source": [
    "8. `baseball = [[180, 78.4], [215, 102.7], [210, 98.5], [188, 75.2]]` is available as list of lists.\n",
    "  - Create a 2D numpy array from baseball: np_baseball_s\n",
    "  - Print the type and dimension of np_baseball"
   ]
  },
  {
   "cell_type": "code",
   "execution_count": 83,
   "metadata": {},
   "outputs": [
    {
     "name": "stdout",
     "output_type": "stream",
     "text": [
      "<class 'numpy.ndarray'>\n",
      "(4, 2)\n"
     ]
    }
   ],
   "source": [
    "np_baseball = np.array([[180, 78.4], [215, 102.7], [210, 98.5], [188, 75.2]])\n",
    "print(type(np_baseball))\n",
    "print(np_baseball.shape)"
   ]
  },
  {
   "cell_type": "markdown",
   "metadata": {},
   "source": [
    "9. `np_baseball` is available as ndarray\n",
    "  - Print out the 50th row of np_baseball\n",
    "  - Select the entire second column of np_baseball: np_weight_lb\n",
    "  - Print out height of 124th player\n",
    "  - Create a numpy array with two values: 0.0254, 0.453592: `conversion`.\n",
    "  - Calculate the bmi of each player : bmi = weight(in kg) / height(in m) ^ 2\n",
    "  - Calculate the mean, median and standard deviation of height\n",
    "  - Calculate the correlation coefficient height and weight\n",
    "  \n",
    "```Python\n",
    "import pandas as pd\n",
    "df = pd.read_csv(\"C:\\\\Users\\\\saifs\\\\Desktop\\\\data_science\\\\datasets\\\\baseball.csv\")\n",
    "baseball = df[['Height','Weight']]\n",
    "np_baseball = baseball.values\n",
    "```"
   ]
  },
  {
   "cell_type": "code",
   "execution_count": 108,
   "metadata": {},
   "outputs": [
    {
     "name": "stdout",
     "output_type": "stream",
     "text": [
      "(1015, 2)\n",
      "[ 73 200]\n",
      "[180 215 210 ... 205 190 195]\n",
      "1015\n",
      "73\n",
      "[23.12871828 27.62596906 28.50340886 ... 25.64329538 23.76695669\n",
      " 25.74728212]\n",
      "73.6896551724138\n",
      "74.0\n",
      "2.312791881046546\n"
     ]
    }
   ],
   "source": [
    "import pandas as pd\n",
    "df = pd.read_csv(\"C:\\\\Users\\\\saifs\\\\Desktop\\\\data_science\\\\datasets\\\\baseball.csv\")\n",
    "baseball = df[['Height','Weight']]\n",
    "np_baseball = baseball.values\n",
    "print(np_baseball.shape)\n",
    "print(np_baseball[50])\n",
    "np_weight_lb = np_baseball[:,1]\n",
    "print(np_weight_lb)\n",
    "print(len(np_weight_lb))\n",
    "print(np_baseball[125,0])\n",
    "conversion = np.array([0.0254, 0.453952])\n",
    "np_baseball_converted = np_baseball * conversion\n",
    "bmi = np_baseball_converted[:,1]/(np_baseball_converted[:,0]**2)\n",
    "print(bmi)\n",
    "print(np.mean(np_baseball[:,0]))\n",
    "print(np.median(np_baseball[:,0]))\n",
    "print(np.std(np_baseball[:,0]))"
   ]
  },
  {
   "cell_type": "markdown",
   "metadata": {},
   "source": [
    "10. **Show that the median height of goalkeepers is higher than that of other players on the soccer field.**  The first list, `positions`, contains strings representing each player's position. The possible positions are: 'GK' (goalkeeper), 'M' (midfield), 'A' (attack) and 'D' (defense). The second list, `heights`, contains integers representing the height of the player in cm.\n",
    "\n",
    "```Python\n",
    "import pandas as pd\n",
    "df = pd.read_csv(\"C:\\\\Users\\\\saifs\\\\Desktop\\\\data_science\\\\datasets\\\\fifa.csv\")\n",
    "height = list(df['height'])\n",
    "position = list(df['position'])\n",
    "```"
   ]
  },
  {
   "cell_type": "code",
   "execution_count": 134,
   "metadata": {},
   "outputs": [
    {
     "name": "stdout",
     "output_type": "stream",
     "text": [
      "Index(['id', ' name', ' rating', ' position', ' height', ' foot', ' rare',\n",
      "       ' pace', ' shooting', ' passing', ' dribbling', ' defending',\n",
      "       ' heading', ' diving', ' handling', ' kicking', ' reflexes', ' speed',\n",
      "       ' positioning'],\n",
      "      dtype='object')\n",
      "8847\n",
      "[191 184 185 ... 183 179 179]\n",
      "[' GK' ' M' ' A' ... ' D' ' D' ' M']\n",
      "930\n",
      "188.0\n",
      "182.0\n"
     ]
    }
   ],
   "source": [
    "import pandas as pd\n",
    "df = pd.read_csv(\"C:\\\\Users\\\\saifs\\\\Desktop\\\\data_science\\\\datasets\\\\fifa.csv\")\n",
    "print(df.columns)\n",
    "height = list(df[' height'])\n",
    "position = list(df[' position'])\n",
    "np_position = np.array(position)\n",
    "np_height = np.array(height)\n",
    "print(len(np_position))\n",
    "print(np_height)\n",
    "print(np_position)\n",
    "#print(np_position[np_position == ' GK'])\n",
    "goalkeeper = np_height[np_position == ' GK']\n",
    "rest_players = np_height[np_position != 'GK']\n",
    "print(len(goalkeeper))\n",
    "print(np.median(goalkeeper))\n",
    "print(np.median(rest_players))"
   ]
  }
 ],
 "metadata": {
  "kernelspec": {
   "display_name": "Python 3",
   "language": "python",
   "name": "python3"
  },
  "language_info": {
   "codemirror_mode": {
    "name": "ipython",
    "version": 3
   },
   "file_extension": ".py",
   "mimetype": "text/x-python",
   "name": "python",
   "nbconvert_exporter": "python",
   "pygments_lexer": "ipython3",
   "version": "3.7.3"
  }
 },
 "nbformat": 4,
 "nbformat_minor": 2
}
