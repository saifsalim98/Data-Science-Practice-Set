{
 "cells": [
  {
   "cell_type": "markdown",
   "metadata": {},
   "source": [
    "1. - The file tweets.csv is available in your current directory. The dataset contains Twitter data and you will iterate over entries in a column to build a dictionary in which the keys are the names of languages and the values are the number of tweets in the given language. \n",
    "  - In this exercise, you will define a function with the functionality you developed in the previous exercise, return the resulting dictionary from within the function, and call the function with the appropriate arguments.\n",
    "```Python\n",
    "result = count_entries(tweets_df,'lang')\n",
    "```\n",
    "  - Change the function definition to take keyword argument as `col` having default value of `lang` so that for any column, the number of distinct values can be calculated.\n",
    "  - Add a try-except block. This will allow your function to provide a helpful message when the user calls your `count_entries()` function but provides a column name that isn't in the DataFrame. Display the following error message: `'The DataFrame does not have a ' + col_name + ' column.'`\n",
    "  - Instead of try-catch block, raise a ValueError in the case that the user provides a column name that isn't in the DataFrame"
   ]
  },
  {
   "cell_type": "markdown",
   "metadata": {},
   "source": [
    "2. The function you will define is `gibberish()` which can accept a variable number of string values. Its return value is a single string composed of all the string arguments concatenated together in the order they were passed to the function call. You will call the function with a single string argument and see how the output changes with another call using more than one string argument.\n",
    "```Python\n",
    "one_word = gibberish(\"luke\")\n",
    "many_words = gibberish(\"luke\", \"leia\", \"han\", \"obi\", \"darth\")\n",
    "```"
   ]
  },
  {
   "cell_type": "markdown",
   "metadata": {},
   "source": [
    "3. Define a function that accepts a variable number of keyword arguments. The function simulates a simple status report system that prints out the status of a character in a movie.\n",
    "```Python\n",
    "report_status(name=\"luke\",affiliation=\"jedi\",status=\"missing\")\n",
    "report_status(name=\"anakin\", affiliation=\"sith lord\", status=\"deceased\")\n",
    "```"
   ]
  },
  {
   "cell_type": "markdown",
   "metadata": {},
   "source": [
    "4. Few Questions of lambda function, map, filter and reduce"
   ]
  },
  {
   "cell_type": "markdown",
   "metadata": {},
   "source": [
    "5. Write a lambda function and use `filter()` to select retweets, that is, tweets that begin with the string 'RT'"
   ]
  }
 ],
 "metadata": {
  "kernelspec": {
   "display_name": "Python 3",
   "language": "python",
   "name": "python3"
  },
  "language_info": {
   "codemirror_mode": {
    "name": "ipython",
    "version": 3
   },
   "file_extension": ".py",
   "mimetype": "text/x-python",
   "name": "python",
   "nbconvert_exporter": "python",
   "pygments_lexer": "ipython3",
   "version": "3.7.3"
  }
 },
 "nbformat": 4,
 "nbformat_minor": 2
}
