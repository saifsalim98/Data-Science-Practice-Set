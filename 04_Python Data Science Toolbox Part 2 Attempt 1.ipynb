{
 "cells": [
  {
   "cell_type": "markdown",
   "metadata": {},
   "source": [
    "1. ```Python\n",
    "flash = ['jay garrick', 'barry allen', 'wally west', 'bart allen']\n",
    "```\n",
    "  - Print each list item in flash using a for loop\n",
    "  - Create an iterator for flash: superspeed and then print each item from the iterator"
   ]
  },
  {
   "cell_type": "code",
   "execution_count": 4,
   "metadata": {},
   "outputs": [
    {
     "name": "stdout",
     "output_type": "stream",
     "text": [
      "jay garrick\n",
      "barry allen\n",
      "wally west\n",
      "bart allen\n"
     ]
    },
    {
     "ename": "StopIteration",
     "evalue": "",
     "output_type": "error",
     "traceback": [
      "\u001b[1;31m---------------------------------------------------------------------------\u001b[0m",
      "\u001b[1;31mStopIteration\u001b[0m                             Traceback (most recent call last)",
      "\u001b[1;32m<ipython-input-4-00f21f8a1e17>\u001b[0m in \u001b[0;36m<module>\u001b[1;34m\u001b[0m\n\u001b[0;32m      5\u001b[0m \u001b[0mprint\u001b[0m\u001b[1;33m(\u001b[0m\u001b[0mnext\u001b[0m\u001b[1;33m(\u001b[0m\u001b[0mi\u001b[0m\u001b[1;33m)\u001b[0m\u001b[1;33m)\u001b[0m\u001b[1;33m\u001b[0m\u001b[1;33m\u001b[0m\u001b[0m\n\u001b[0;32m      6\u001b[0m \u001b[0mprint\u001b[0m\u001b[1;33m(\u001b[0m\u001b[0mnext\u001b[0m\u001b[1;33m(\u001b[0m\u001b[0mi\u001b[0m\u001b[1;33m)\u001b[0m\u001b[1;33m)\u001b[0m\u001b[1;33m\u001b[0m\u001b[1;33m\u001b[0m\u001b[0m\n\u001b[1;32m----> 7\u001b[1;33m \u001b[0mprint\u001b[0m\u001b[1;33m(\u001b[0m\u001b[0mnext\u001b[0m\u001b[1;33m(\u001b[0m\u001b[0mi\u001b[0m\u001b[1;33m)\u001b[0m\u001b[1;33m)\u001b[0m\u001b[1;33m\u001b[0m\u001b[1;33m\u001b[0m\u001b[0m\n\u001b[0m",
      "\u001b[1;31mStopIteration\u001b[0m: "
     ]
    }
   ],
   "source": [
    "flash = ['jay garrick', 'barry allen', 'wally west', 'bart allen']\n",
    "i = iter(flash)\n",
    "print(next(i))\n",
    "print(next(i))\n",
    "print(next(i))\n",
    "print(next(i))\n",
    "print(next(i))"
   ]
  },
  {
   "cell_type": "markdown",
   "metadata": {},
   "source": [
    "#### Not all iterables are actual lists. `range()` doesn't actually create the list; instead, it creates a range object with an iterator that produces the values until it reaches the limit."
   ]
  },
  {
   "cell_type": "markdown",
   "metadata": {},
   "source": [
    "2. Create a list of strings: mutants\n",
    "```Python\n",
    "mutants = ['charles xavier', \n",
    "            'bobby drake', \n",
    "            'kurt wagner', \n",
    "            'max eisenhardt', \n",
    "            'kitty pryde']\n",
    "```\n",
    "  - Print the elements of `mutants` along with their index.\n",
    "  - Start the index from 1"
   ]
  },
  {
   "cell_type": "code",
   "execution_count": 7,
   "metadata": {},
   "outputs": [
    {
     "name": "stdout",
     "output_type": "stream",
     "text": [
      "1: charles xavier\n",
      "2: bobby drake\n",
      "3: kurt wagner\n",
      "4: max eisenhardt\n",
      "5: kitty pryde\n"
     ]
    }
   ],
   "source": [
    "mutants = ['charles xavier', \n",
    "         'bobby drake', \n",
    "         'kurt wagner', \n",
    "         'max eisenhardt', \n",
    "         'kitty pryde']\n",
    "for index, element in enumerate(mutants,1):\n",
    "    print(str(index) + \": \" + element)"
   ]
  },
  {
   "cell_type": "markdown",
   "metadata": {},
   "source": [
    "3. ```Python\n",
    "mutants = ['charles xavier','bobby drake','kurt wagner','max eisenhardt','kitty pryde']\n",
    "aliases = ['prof x','iceman','nightcrawler','magneto','shadowcat']\n",
    "powers = ['telepathy','thermokinesis','teleportation','magnetokinesis','intangibility']\n",
    "```\n",
    "  - Map the similar index of multiple lists given above so that they can be used just using as single entity.\n",
    "  - Print the values from newly formed entity, eg. `charles xavier prof x telepathy` / Print the tuples by unpacking the zipped object\n",
    "  - Unzip the lists from the zipped object"
   ]
  },
  {
   "cell_type": "code",
   "execution_count": 32,
   "metadata": {},
   "outputs": [
    {
     "name": "stdout",
     "output_type": "stream",
     "text": [
      "[('charles xavier', 'prof x', 'telepathy'), ('bobby drake', 'iceman', 'thermokinesis'), ('kurt wagner', 'nightcrawler', 'teleportation'), ('max eisenhardt', 'magneto', 'magnetokinesis'), ('kitty pryde', 'shadowcat', 'intangibility')]\n",
      "--------------------------------------------------\n",
      "('charles xavier', 'prof x', 'telepathy') ('bobby drake', 'iceman', 'thermokinesis') ('kurt wagner', 'nightcrawler', 'teleportation') ('max eisenhardt', 'magneto', 'magnetokinesis') ('kitty pryde', 'shadowcat', 'intangibility')\n",
      "--------------------------------------------------\n",
      "charles xavier prof x telepathy \n",
      "bobby drake iceman thermokinesis \n",
      "kurt wagner nightcrawler teleportation \n",
      "max eisenhardt magneto magnetokinesis \n",
      "kitty pryde shadowcat intangibility \n",
      "--------------------------------------------------\n",
      "charles xavier prof x telepathy\n",
      "bobby drake iceman thermokinesis\n",
      "kurt wagner nightcrawler teleportation\n",
      "max eisenhardt magneto magnetokinesis\n",
      "kitty pryde shadowcat intangibility\n",
      "--------------------------------------------------\n",
      "True\n",
      "True\n",
      "True\n",
      "('charles xavier', 'bobby drake', 'kurt wagner', 'max eisenhardt', 'kitty pryde')\n",
      "('prof x', 'iceman', 'nightcrawler', 'magneto', 'shadowcat')\n",
      "('telepathy', 'thermokinesis', 'teleportation', 'magnetokinesis', 'intangibility')\n"
     ]
    }
   ],
   "source": [
    "mutants = ['charles xavier','bobby drake','kurt wagner','max eisenhardt','kitty pryde']\n",
    "aliases = ['prof x','iceman','nightcrawler','magneto','shadowcat']\n",
    "powers = ['telepathy','thermokinesis','teleportation','magnetokinesis','intangibility']\n",
    "result = zip(mutants,aliases,powers)\n",
    "l_result = list(zip(mutants,aliases,powers))\n",
    "print(l_result) # Print the list of tuples in result by unpacking with *\n",
    "print('--------------------------------------------------')\n",
    "print(*result) # Print the tuples in result by unpacking with *\n",
    "print('--------------------------------------------------')\n",
    "# Method 1\n",
    "for x in l_result:\n",
    "    for y in x:\n",
    "        print(y, end=' ')\n",
    "    print()\n",
    "print('--------------------------------------------------')\n",
    "# Method 2\n",
    "for x, y, z in zip(mutants,aliases,powers):\n",
    "    print(x, y, z)\n",
    "print('--------------------------------------------------')\n",
    "result = zip(mutants,aliases,powers)\n",
    "# Method 1\n",
    "x, y, z = zip(*result)\n",
    "if list(x) == mutants:\n",
    "    print('True')\n",
    "if list(y) == aliases:\n",
    "    print('True')\n",
    "if list(z) == powers:\n",
    "    print('True')\n",
    "print(x, y, z, sep='\\n')"
   ]
  },
  {
   "cell_type": "markdown",
   "metadata": {},
   "source": [
    "4. Define the function `count_entries()` for Tweeter data problem to count number of distinct values in a column. The function has 3 parameters. The first parameter is `csv_file` for the filename, the second is `c_size` for the chunk size, and the last is `colname` for the column name.\n"
   ]
  },
  {
   "cell_type": "code",
   "execution_count": null,
   "metadata": {},
   "outputs": [],
   "source": [
    "def count_entries(csv_file, c_size, col_name):\n",
    "    "
   ]
  },
  {
   "cell_type": "markdown",
   "metadata": {},
   "source": [
    "5. - Write a list comprehension that produces a list of numbers consisting of the squared values of i\n",
    "   - Create a 5 x 5 matrix using a list of lists: matrix\n",
    "   ```Python\n",
    "    matrix = [[0, 1, 2, 3, 4],\n",
    "               [0, 1, 2, 3, 4],\n",
    "               [0, 1, 2, 3, 4],\n",
    "               [0, 1, 2, 3, 4],\n",
    "               [0, 1, 2, 3, 4]]\n",
    "```\n",
    "   - You are given a list of strings fellowship and, using a list comprehension, you will create a list that only includes the members of fellowship that have 7 characters or more.\n",
    "```Python\n",
    "fellowship = ['frodo', 'samwise', 'merry', 'aragorn', 'legolas', 'boromir', 'gimli']\n",
    "```\n",
    "   - Create a list that keeps members of fellowship with 7 or more characters and replaces others with an empty string.\n",
    "   - Using a dict comprehension, create a dictionary with the members of the list as the keys and the length of each string as the corresponding values."
   ]
  },
  {
   "cell_type": "code",
   "execution_count": 52,
   "metadata": {},
   "outputs": [
    {
     "name": "stdout",
     "output_type": "stream",
     "text": [
      "[1, 4, 9, 16, 25]\n",
      "--------------------------------------------------\n",
      "[[0, 1, 2, 3, 4], [0, 1, 2, 3, 4], [0, 1, 2, 3, 4], [0, 1, 2, 3, 4], [0, 1, 2, 3, 4]]\n",
      "--------------------------------------------------\n",
      "['samwise', 'aragorn', 'legolas', 'boromir']\n",
      "--------------------------------------------------\n",
      "{'frodo': 5, 'samwise': 7, 'merry': 5, 'aragorn': 7, 'legolas': 7, 'boromir': 7, 'gimli': 5}\n"
     ]
    }
   ],
   "source": [
    "a = [1,2,3,4,5]\n",
    "square = [x*x for x in a]\n",
    "print(square)\n",
    "print('--------------------------------------------------')\n",
    "matrix =[]\n",
    "for x in range(5):\n",
    "    temp = []\n",
    "    for y in range(5):\n",
    "        temp.append(y)\n",
    "    matrix.append(temp)\n",
    "print(matrix)\n",
    "print('--------------------------------------------------')\n",
    "fellowship = ['frodo', 'samwise', 'merry', 'aragorn', 'legolas', 'boromir', 'gimli']\n",
    "r_fellowship = [x for x in fellowship if len(x)>=7]\n",
    "print(r_fellowship)\n",
    "print('--------------------------------------------------')\n",
    "d_fellowship = {x: len(x) for x in fellowship}\n",
    "print(d_fellowship)"
   ]
  },
  {
   "cell_type": "markdown",
   "metadata": {},
   "source": [
    "Iterator is a more general concept: any object whose class has a `next` method and an `iter` method that does return self.\n",
    "\n",
    "**Every generator is an iterator, but not vice versa.** A generator is built by calling a function that has one or more yield  statements, or built using generator expression and is an object that meets the definition of an iterator. (Previous Paragraph)\n",
    "\n",
    "\"Generator is like a list comprehension, but it does not create list in memory. It creates a generator object that can be iterated over to produce element of a list as required.\" - Data Camp\n",
    "\n",
    "For example, a generator such as:\n",
    "```Python\n",
    "def squares(start, stop):\n",
    "    for i in range(start, stop):\n",
    "        yield i * i\n",
    "generator = squares(10, 20)\n",
    "```\n",
    "or the equivalent generator expression (genexp)\n",
    "```Python\n",
    "generator = (i*i for i in range(10, 20))\n",
    "```\n",
    "\n",
    "-------\n",
    "- A list comprehension produces a list as output, a generator produces a generator object.\n",
    "- When iterating over a dictionary with .items(), or using the range() function,  Python creates generators for you behind the scenes. \n",
    "- The type of `range(10)` is a `range` object and the type of `dict.items()` is `dict_items` object\n",
    "- `range(10)` and `dict.items()` are iterables because they produces `range_iterator` and `dict_itemiterator` objects when called by the `iter()` method. But, the `genrator` did not produces any iterator object because generator itself is an iterator."
   ]
  },
  {
   "cell_type": "code",
   "execution_count": 3,
   "metadata": {
    "scrolled": true
   },
   "outputs": [
    {
     "name": "stdout",
     "output_type": "stream",
     "text": [
      "0\n",
      "25\n",
      "36\n",
      "49\n",
      "64\n",
      "81\n",
      "<class 'dict_items'>\n",
      "<dict_itemiterator object at 0x0000016BDFAC2638>\n",
      "<range_iterator object at 0x0000016BDFA7B7B0>\n"
     ]
    }
   ],
   "source": [
    "y = range(10)\n",
    "i = iter(y)\n",
    "print(next(i))\n",
    "\n",
    "for x in (i*i for i in range(5, 10)):\n",
    "    print(x)\n",
    "    \n",
    "d = {1:'hello', 2:'bello'}\n",
    "print(type(d.items()))\n",
    "print(iter(d.items()))\n",
    "print(iter(range(10)))"
   ]
  },
  {
   "cell_type": "markdown",
   "metadata": {},
   "source": [
    "```Python\n",
    "lannister = ['cersei', 'jaime', 'tywin', 'tyrion', 'joffrey']\n",
    "```\n",
    "6. - Write a generator expression that will generate the lengths of each string in lannister\n",
    "   - Create a generator function with a similar mechanism as the generator expression you defined above"
   ]
  },
  {
   "cell_type": "code",
   "execution_count": 11,
   "metadata": {},
   "outputs": [
    {
     "name": "stdout",
     "output_type": "stream",
     "text": [
      "6\n",
      "5\n",
      "5\n",
      "6\n",
      "7\n",
      "--------------------------------------------------\n",
      "6\n",
      "5\n",
      "5\n",
      "6\n",
      "7\n"
     ]
    }
   ],
   "source": [
    "lannister = ['cersei', 'jaime', 'tywin', 'tyrion', 'joffrey']\n",
    "len_lannister = (len(x) for x in lannister)\n",
    "for x in len_lannister:\n",
    "    print(x)\n",
    "print('--------------------------------------------------')\n",
    "def len_lannister(l):\n",
    "    for x in l:\n",
    "        yield len(x)\n",
    "\n",
    "for x in len_lannister(lannister):\n",
    "    print(x)"
   ]
  },
  {
   "cell_type": "markdown",
   "metadata": {},
   "source": [
    "7. - Use a list comprehension to extract the time from time-stamped Twitter data : tweet_time.\n",
    "   - Extract time-stamp for which value of seconds stamp is 19"
   ]
  },
  {
   "cell_type": "code",
   "execution_count": 20,
   "metadata": {},
   "outputs": [
    {
     "name": "stdout",
     "output_type": "stream",
     "text": [
      "0    Tue Mar 29 23:40:17 +0000 2016\n",
      "1    Tue Mar 29 23:40:17 +0000 2016\n",
      "2    Tue Mar 29 23:40:17 +0000 2016\n",
      "3    Tue Mar 29 23:40:17 +0000 2016\n",
      "4    Tue Mar 29 23:40:17 +0000 2016\n",
      "Name: created_at, dtype: object\n",
      "--------------------------------------------------\n",
      "['23:40:19', '23:40:19', '23:40:19', '23:40:19', '23:40:19', '23:40:19', '23:40:19', '23:40:19', '23:40:19', '23:40:19', '23:40:19', '23:40:19', '23:40:19', '23:40:19', '23:40:19', '23:40:19', '23:40:19', '23:40:19', '23:40:19', '23:40:19', '23:40:19', '23:40:19', '23:40:19', '23:40:19', '23:40:19', '23:40:19', '23:40:19', '23:40:19', '23:40:19', '23:40:19', '23:40:19', '23:40:19', '23:40:19', '23:40:19']\n"
     ]
    }
   ],
   "source": [
    "import pandas as pd\n",
    "df = pd.read_csv(\"C:\\\\Users\\\\saifs\\\\Desktop\\\\data_science\\\\datasets\\\\tweets.csv\")\n",
    "print(df.created_at.head())\n",
    "print('--------------------------------------------------')\n",
    "tweet_time = [row['created_at'][11:19] for index, row in df.iterrows() if row['created_at'][17:19]=='19']\n",
    "print(tweet_time)"
   ]
  },
  {
   "cell_type": "markdown",
   "metadata": {},
   "source": [
    "8. ```Python\n",
    "feature_names = ['CountryName','CountryCode','IndicatorName','IndicatorCode','Year','Value']\n",
    "row_vals = ['Arab World',\n",
    "'ARB','Adolescent fertility rate (births per 1,000 women ages 15-19)',\n",
    "'SP.ADO.TFRT','1960','133.56090740552298']\n",
    "row_lists = [['Arab World',\n",
    "  'ARB',\n",
    "  'Adolescent fertility rate (births per 1,000 women ages 15-19)',\n",
    "  'SP.ADO.TFRT',\n",
    "  '1960',\n",
    "  '133.56090740552298'],\n",
    " ['Arab World',\n",
    "  'ARB',\n",
    "  'Age dependency ratio (% of working-age population)',\n",
    "  'SP.POP.DPND',\n",
    "  '1960',\n",
    "  '87.7976011532547'],\n",
    " ['Arab World',\n",
    "  'ARB',\n",
    "  'Age dependency ratio, old (% of working-age population)',\n",
    "  'SP.POP.DPND.OL',\n",
    "  '1960',\n",
    "  '6.634579191565161'],\n",
    "  ['Arab World',\n",
    "  'ARB',\n",
    "  'CO2 emissions (kt)',\n",
    "  'EN.ATM.CO2E.KT',\n",
    "  '1960',\n",
    "  '59563.9892169935'],\n",
    " ['Arab World',\n",
    "  'ARB',\n",
    "  'CO2 emissions (metric tons per capita)',\n",
    "  'EN.ATM.CO2E.PC',\n",
    "  '1960',\n",
    "  '0.6439635478877049']]\n",
    "```\n",
    "  - Write a function which takes two lists as input and return a dictionary where list1 provides the keys and list2 provides the values. Call the lists2dict() function with the arguments feature_names and row_vals. Assign the result of the function call to rs_fxn\n",
    "  - Use a list comprehension `lists_of_dicts` to generate a list of dicts, where the keys are the header names and the values are the row entries as `row_lists`.\n",
    "  - Turn the `lists_of_dicts` into dataframe "
   ]
  },
  {
   "cell_type": "code",
   "execution_count": 30,
   "metadata": {},
   "outputs": [
    {
     "name": "stdout",
     "output_type": "stream",
     "text": [
      "{'CountryName': 'Arab World', 'CountryCode': 'ARB', 'IndicatorName': 'Adolescent fertility rate (births per 1,000 women ages 15-19)', 'IndicatorCode': 'SP.ADO.TFRT', 'Year': '1960', 'Value': '133.56090740552298'}\n",
      "--------------------------------------------------\n",
      "[{'CountryName': 'Arab World', 'CountryCode': 'ARB', 'IndicatorName': 'Adolescent fertility rate (births per 1,000 women ages 15-19)', 'IndicatorCode': 'SP.ADO.TFRT', 'Year': '1960', 'Value': '133.56090740552298'}, {'CountryName': 'Arab World', 'CountryCode': 'ARB', 'IndicatorName': 'Age dependency ratio (% of working-age population)', 'IndicatorCode': 'SP.POP.DPND', 'Year': '1960', 'Value': '87.7976011532547'}, {'CountryName': 'Arab World', 'CountryCode': 'ARB', 'IndicatorName': 'Age dependency ratio, old (% of working-age population)', 'IndicatorCode': 'SP.POP.DPND.OL', 'Year': '1960', 'Value': '6.634579191565161'}, {'CountryName': 'Arab World', 'CountryCode': 'ARB', 'IndicatorName': 'CO2 emissions (kt)', 'IndicatorCode': 'EN.ATM.CO2E.KT', 'Year': '1960', 'Value': '59563.9892169935'}, {'CountryName': 'Arab World', 'CountryCode': 'ARB', 'IndicatorName': 'CO2 emissions (metric tons per capita)', 'IndicatorCode': 'EN.ATM.CO2E.PC', 'Year': '1960', 'Value': '0.6439635478877049'}]\n"
     ]
    },
    {
     "data": {
      "text/html": [
       "<div>\n",
       "<style scoped>\n",
       "    .dataframe tbody tr th:only-of-type {\n",
       "        vertical-align: middle;\n",
       "    }\n",
       "\n",
       "    .dataframe tbody tr th {\n",
       "        vertical-align: top;\n",
       "    }\n",
       "\n",
       "    .dataframe thead th {\n",
       "        text-align: right;\n",
       "    }\n",
       "</style>\n",
       "<table border=\"1\" class=\"dataframe\">\n",
       "  <thead>\n",
       "    <tr style=\"text-align: right;\">\n",
       "      <th></th>\n",
       "      <th>CountryCode</th>\n",
       "      <th>CountryName</th>\n",
       "      <th>IndicatorCode</th>\n",
       "      <th>IndicatorName</th>\n",
       "      <th>Value</th>\n",
       "      <th>Year</th>\n",
       "    </tr>\n",
       "  </thead>\n",
       "  <tbody>\n",
       "    <tr>\n",
       "      <th>0</th>\n",
       "      <td>ARB</td>\n",
       "      <td>Arab World</td>\n",
       "      <td>SP.ADO.TFRT</td>\n",
       "      <td>Adolescent fertility rate (births per 1,000 wo...</td>\n",
       "      <td>133.56090740552298</td>\n",
       "      <td>1960</td>\n",
       "    </tr>\n",
       "    <tr>\n",
       "      <th>1</th>\n",
       "      <td>ARB</td>\n",
       "      <td>Arab World</td>\n",
       "      <td>SP.POP.DPND</td>\n",
       "      <td>Age dependency ratio (% of working-age populat...</td>\n",
       "      <td>87.7976011532547</td>\n",
       "      <td>1960</td>\n",
       "    </tr>\n",
       "    <tr>\n",
       "      <th>2</th>\n",
       "      <td>ARB</td>\n",
       "      <td>Arab World</td>\n",
       "      <td>SP.POP.DPND.OL</td>\n",
       "      <td>Age dependency ratio, old (% of working-age po...</td>\n",
       "      <td>6.634579191565161</td>\n",
       "      <td>1960</td>\n",
       "    </tr>\n",
       "    <tr>\n",
       "      <th>3</th>\n",
       "      <td>ARB</td>\n",
       "      <td>Arab World</td>\n",
       "      <td>EN.ATM.CO2E.KT</td>\n",
       "      <td>CO2 emissions (kt)</td>\n",
       "      <td>59563.9892169935</td>\n",
       "      <td>1960</td>\n",
       "    </tr>\n",
       "    <tr>\n",
       "      <th>4</th>\n",
       "      <td>ARB</td>\n",
       "      <td>Arab World</td>\n",
       "      <td>EN.ATM.CO2E.PC</td>\n",
       "      <td>CO2 emissions (metric tons per capita)</td>\n",
       "      <td>0.6439635478877049</td>\n",
       "      <td>1960</td>\n",
       "    </tr>\n",
       "  </tbody>\n",
       "</table>\n",
       "</div>"
      ],
      "text/plain": [
       "  CountryCode CountryName   IndicatorCode  \\\n",
       "0         ARB  Arab World     SP.ADO.TFRT   \n",
       "1         ARB  Arab World     SP.POP.DPND   \n",
       "2         ARB  Arab World  SP.POP.DPND.OL   \n",
       "3         ARB  Arab World  EN.ATM.CO2E.KT   \n",
       "4         ARB  Arab World  EN.ATM.CO2E.PC   \n",
       "\n",
       "                                       IndicatorName               Value  Year  \n",
       "0  Adolescent fertility rate (births per 1,000 wo...  133.56090740552298  1960  \n",
       "1  Age dependency ratio (% of working-age populat...    87.7976011532547  1960  \n",
       "2  Age dependency ratio, old (% of working-age po...   6.634579191565161  1960  \n",
       "3                                 CO2 emissions (kt)    59563.9892169935  1960  \n",
       "4             CO2 emissions (metric tons per capita)  0.6439635478877049  1960  "
      ]
     },
     "execution_count": 30,
     "metadata": {},
     "output_type": "execute_result"
    }
   ],
   "source": [
    "feature_names = ['CountryName','CountryCode','IndicatorName','IndicatorCode','Year','Value']\n",
    "row_vals = ['Arab World',\n",
    "'ARB','Adolescent fertility rate (births per 1,000 women ages 15-19)',\n",
    "'SP.ADO.TFRT','1960','133.56090740552298']\n",
    "row_lists = [['Arab World',\n",
    "'ARB',\n",
    "'Adolescent fertility rate (births per 1,000 women ages 15-19)',\n",
    "'SP.ADO.TFRT',\n",
    "'1960',\n",
    "'133.56090740552298'],\n",
    "['Arab World',\n",
    "'ARB',\n",
    "'Age dependency ratio (% of working-age population)',\n",
    "'SP.POP.DPND',\n",
    "'1960',\n",
    "'87.7976011532547'],\n",
    "['Arab World',\n",
    "'ARB',\n",
    "'Age dependency ratio, old (% of working-age population)',\n",
    "'SP.POP.DPND.OL',\n",
    "'1960',\n",
    "'6.634579191565161'],\n",
    "['Arab World',\n",
    "'ARB',\n",
    "'CO2 emissions (kt)',\n",
    "'EN.ATM.CO2E.KT',\n",
    "'1960',\n",
    "'59563.9892169935'],\n",
    "['Arab World',\n",
    "'ARB',\n",
    "'CO2 emissions (metric tons per capita)',\n",
    "'EN.ATM.CO2E.PC',\n",
    "'1960',\n",
    "'0.6439635478877049']]\n",
    "\n",
    "\n",
    "def list2dict(list1, list2):\n",
    "    d = dict(zip(list1,list2))\n",
    "    return d\n",
    "rs_fxn = list2dict(feature_names, row_vals)\n",
    "print(rs_fxn)\n",
    "\n",
    "print('--------------------------------------------------')\n",
    "\n",
    "list_of_dicts = [list2dict(feature_names, x) for x in row_lists]\n",
    "print(list_of_dicts)\n",
    "df = pd.DataFrame(list_of_dicts)\n",
    "df"
   ]
  },
  {
   "cell_type": "markdown",
   "metadata": {},
   "source": [
    "9. - You will process the first 1000 rows of a file `world_ind_pop_data.csv` line by line, to create a `dictionary` of the counts of how many times each country appears in a column in the dataset. Skip the first row which represent column names. Split the current line into list. Use the value of only `column[0]` to check the counts.\n",
    "   - Define a generator function `read_large_file()` that produces a generator object which yields a single line from a file each time next() is called on it. First open a connection between `world_dev_ind.csv` as `file` and then pass the `file` to the function.\n",
    "   - Now using the generator function, solve the same scenario stated in point 1 for the entire csv file.\n",
    "   "
   ]
  },
  {
   "cell_type": "code",
   "execution_count": 32,
   "metadata": {
    "scrolled": true
   },
   "outputs": [
    {
     "data": {
      "text/html": [
       "<div>\n",
       "<style scoped>\n",
       "    .dataframe tbody tr th:only-of-type {\n",
       "        vertical-align: middle;\n",
       "    }\n",
       "\n",
       "    .dataframe tbody tr th {\n",
       "        vertical-align: top;\n",
       "    }\n",
       "\n",
       "    .dataframe thead th {\n",
       "        text-align: right;\n",
       "    }\n",
       "</style>\n",
       "<table border=\"1\" class=\"dataframe\">\n",
       "  <thead>\n",
       "    <tr style=\"text-align: right;\">\n",
       "      <th></th>\n",
       "      <th>CountryName</th>\n",
       "      <th>CountryCode</th>\n",
       "      <th>Year</th>\n",
       "      <th>Total Population</th>\n",
       "      <th>Urban population (% of total)</th>\n",
       "    </tr>\n",
       "  </thead>\n",
       "  <tbody>\n",
       "    <tr>\n",
       "      <th>0</th>\n",
       "      <td>Arab World</td>\n",
       "      <td>ARB</td>\n",
       "      <td>1960</td>\n",
       "      <td>9.249590e+07</td>\n",
       "      <td>31.285384</td>\n",
       "    </tr>\n",
       "    <tr>\n",
       "      <th>1</th>\n",
       "      <td>Caribbean small states</td>\n",
       "      <td>CSS</td>\n",
       "      <td>1960</td>\n",
       "      <td>4.190810e+06</td>\n",
       "      <td>31.597490</td>\n",
       "    </tr>\n",
       "    <tr>\n",
       "      <th>2</th>\n",
       "      <td>Central Europe and the Baltics</td>\n",
       "      <td>CEB</td>\n",
       "      <td>1960</td>\n",
       "      <td>9.140158e+07</td>\n",
       "      <td>44.507921</td>\n",
       "    </tr>\n",
       "    <tr>\n",
       "      <th>3</th>\n",
       "      <td>East Asia &amp; Pacific (all income levels)</td>\n",
       "      <td>EAS</td>\n",
       "      <td>1960</td>\n",
       "      <td>1.042475e+09</td>\n",
       "      <td>22.471132</td>\n",
       "    </tr>\n",
       "    <tr>\n",
       "      <th>4</th>\n",
       "      <td>East Asia &amp; Pacific (developing only)</td>\n",
       "      <td>EAP</td>\n",
       "      <td>1960</td>\n",
       "      <td>8.964930e+08</td>\n",
       "      <td>16.917679</td>\n",
       "    </tr>\n",
       "  </tbody>\n",
       "</table>\n",
       "</div>"
      ],
      "text/plain": [
       "                               CountryName CountryCode  Year  \\\n",
       "0                               Arab World         ARB  1960   \n",
       "1                   Caribbean small states         CSS  1960   \n",
       "2           Central Europe and the Baltics         CEB  1960   \n",
       "3  East Asia & Pacific (all income levels)         EAS  1960   \n",
       "4    East Asia & Pacific (developing only)         EAP  1960   \n",
       "\n",
       "   Total Population  Urban population (% of total)  \n",
       "0      9.249590e+07                      31.285384  \n",
       "1      4.190810e+06                      31.597490  \n",
       "2      9.140158e+07                      44.507921  \n",
       "3      1.042475e+09                      22.471132  \n",
       "4      8.964930e+08                      16.917679  "
      ]
     },
     "execution_count": 32,
     "metadata": {},
     "output_type": "execute_result"
    }
   ],
   "source": [
    "df = pd.read_csv(\"C:\\\\Users\\\\saifs\\\\Desktop\\\\data_science\\\\datasets\\\\world_ind_pop_data.csv\")\n",
    "df.head()"
   ]
  },
  {
   "cell_type": "code",
   "execution_count": 51,
   "metadata": {
    "scrolled": false
   },
   "outputs": [
    {
     "name": "stdout",
     "output_type": "stream",
     "text": [
      "CountryName,CountryCode,Year,Total Population,Urban population (% of total)\n",
      "\n",
      "{'Arab World': 5, 'Caribbean small states': 5, 'Central Europe and the Baltics': 5, 'East Asia & Pacific (all income levels)': 5, 'East Asia & Pacific (developing only)': 5, 'Euro area': 5, 'Europe & Central Asia (all income levels)': 5, 'Europe & Central Asia (developing only)': 5, 'European Union': 5, 'Fragile and conflict affected situations': 5, 'Heavily indebted poor countries (HIPC)': 5, 'High income': 5, 'High income: nonOECD': 5, 'High income: OECD': 5, 'Latin America & Caribbean (all income levels)': 5, 'Latin America & Caribbean (developing only)': 5, 'Least developed countries: UN classification': 5, 'Low & middle income': 5, 'Low income': 5, 'Lower middle income': 5, 'Middle East & North Africa (all income levels)': 5, 'Middle East & North Africa (developing only)': 5, 'Middle income': 5, 'North America': 5, 'OECD members': 5, 'Other small states': 5, 'Pacific island small states': 5, 'Small states': 5, 'South Asia': 5, 'Sub-Saharan Africa (all income levels)': 5, 'Sub-Saharan Africa (developing only)': 5, 'Upper middle income': 5, 'World': 4, 'Afghanistan': 4, 'Albania': 4, 'Algeria': 4, 'American Samoa': 4, 'Andorra': 4, 'Angola': 4, 'Antigua and Barbuda': 4, 'Argentina': 4, 'Armenia': 4, 'Aruba': 4, 'Australia': 4, 'Austria': 4, 'Azerbaijan': 4, '\"Bahamas': 4, 'Bahrain': 4, 'Bangladesh': 4, 'Barbados': 4, 'Belarus': 4, 'Belgium': 4, 'Belize': 4, 'Benin': 4, 'Bermuda': 4, 'Bhutan': 4, 'Bolivia': 4, 'Bosnia and Herzegovina': 4, 'Botswana': 4, 'Brazil': 4, 'Brunei Darussalam': 4, 'Bulgaria': 4, 'Burkina Faso': 4, 'Burundi': 4, 'Cabo Verde': 4, 'Cambodia': 4, 'Cameroon': 4, 'Canada': 4, 'Cayman Islands': 4, 'Central African Republic': 4, 'Chad': 4, 'Channel Islands': 4, 'Chile': 4, 'China': 4, 'Colombia': 4, 'Comoros': 4, '\"Congo': 8, 'Costa Rica': 4, \"Cote d'Ivoire\": 4, 'Croatia': 4, 'Cuba': 4, 'Curacao': 4, 'Cyprus': 4, 'Czech Republic': 4, 'Denmark': 4, 'Djibouti': 4, 'Dominica': 4, 'Dominican Republic': 4, 'Ecuador': 4, '\"Egypt': 4, 'El Salvador': 4, 'Equatorial Guinea': 4, 'Eritrea': 4, 'Estonia': 4, 'Ethiopia': 4, 'Faeroe Islands': 4, 'Fiji': 4, 'Finland': 4, 'France': 4, 'French Polynesia': 4, 'Gabon': 4, '\"Gambia': 4, 'Georgia': 4, 'Germany': 4, 'Ghana': 4, 'Greece': 4, 'Greenland': 4, 'Grenada': 4, 'Guam': 4, 'Guatemala': 4, 'Guinea': 4, 'Guinea-Bissau': 4, 'Guyana': 4, 'Haiti': 4, 'Honduras': 4, '\"Hong Kong SAR': 4, 'Hungary': 4, 'Iceland': 4, 'India': 4, 'Indonesia': 4, '\"Iran': 4, 'Iraq': 4, 'Ireland': 4, 'Isle of Man': 4, 'Israel': 4, 'Italy': 4, 'Jamaica': 4, 'Japan': 4, 'Jordan': 4, 'Kazakhstan': 4, 'Kenya': 4, 'Kiribati': 4, '\"Korea': 8, 'Kuwait': 4, 'Kyrgyz Republic': 4, 'Lao PDR': 4, 'Latvia': 4, 'Lebanon': 4, 'Lesotho': 4, 'Liberia': 4, 'Libya': 4, 'Liechtenstein': 4, 'Lithuania': 4, 'Luxembourg': 4, '\"Macao SAR': 4, '\"Macedonia': 4, 'Madagascar': 4, 'Malawi': 4, 'Malaysia': 4, 'Maldives': 4, 'Mali': 4, 'Malta': 4, 'Marshall Islands': 4, 'Mauritania': 4, 'Mauritius': 4, 'Mexico': 4, '\"Micronesia': 4, 'Moldova': 4, 'Monaco': 4, 'Mongolia': 4, 'Montenegro': 4, 'Morocco': 4, 'Mozambique': 4, 'Myanmar': 4, 'Namibia': 4, 'Nepal': 4, 'Netherlands': 4, 'New Caledonia': 4, 'New Zealand': 4, 'Nicaragua': 4, 'Niger': 4, 'Nigeria': 4, 'Northern Mariana Islands': 4, 'Norway': 4, 'Oman': 4, 'Pakistan': 4, 'Palau': 4, 'Panama': 4, 'Papua New Guinea': 4, 'Paraguay': 4, 'Peru': 4, 'Philippines': 4, 'Poland': 4, 'Portugal': 4, 'Puerto Rico': 4, 'Qatar': 4, 'Romania': 4, 'Russian Federation': 4, 'Rwanda': 4, 'Samoa': 4, 'San Marino': 4, 'Sao Tome and Principe': 4, 'Saudi Arabia': 4, 'Senegal': 4, 'Seychelles': 4, 'Sierra Leone': 4, 'Singapore': 4, 'Slovak Republic': 4, 'Slovenia': 4, 'Solomon Islands': 4, 'Somalia': 4, 'South Africa': 4, 'South Sudan': 4, 'Spain': 4, 'Sri Lanka': 4, 'St. Kitts and Nevis': 4, 'St. Lucia': 4, 'St. Vincent and the Grenadines': 4, 'Sudan': 4, 'Suriname': 4, 'Swaziland': 4, 'Sweden': 4, 'Switzerland': 4, 'Syrian Arab Republic': 4, 'Tajikistan': 4, 'Tanzania': 4, 'Thailand': 4, 'Timor-Leste': 4, 'Togo': 4, 'Tonga': 4, 'Trinidad and Tobago': 4, 'Tunisia': 4, 'Turkey': 4, 'Turkmenistan': 4, 'Turks and Caicos Islands': 4, 'Tuvalu': 4, 'Uganda': 4, 'Ukraine': 4, 'United Arab Emirates': 4, 'United Kingdom': 4, 'United States': 4, 'Uruguay': 4, 'Uzbekistan': 4, 'Vanuatu': 4, '\"Venezuela': 4, 'Vietnam': 4, 'Virgin Islands (U.S.)': 4, '\"Yemen': 4, 'Zambia': 4, 'Zimbabwe': 4}\n"
     ]
    }
   ],
   "source": [
    "with open(\"C:\\\\Users\\\\saifs\\\\Desktop\\\\data_science\\\\datasets\\\\world_ind_pop_data.csv\", \"r\") as file:\n",
    "    print(file.readline())\n",
    "    d = {}\n",
    "    for i in range(1000):\n",
    "        current = file.readline()\n",
    "        a_current = current.split(',')\n",
    "        if a_current[0] in d:\n",
    "            d[a_current[0]] += 1\n",
    "        else:\n",
    "            d[a_current[0]] = 1\n",
    "    print(d)"
   ]
  },
  {
   "cell_type": "code",
   "execution_count": 66,
   "metadata": {},
   "outputs": [
    {
     "name": "stdout",
     "output_type": "stream",
     "text": [
      "{'Arab World': 55, 'Caribbean small states': 55, 'Central Europe and the Baltics': 55, 'East Asia & Pacific (all income levels)': 55, 'East Asia & Pacific (developing only)': 55, 'Euro area': 55, 'Europe & Central Asia (all income levels)': 55, 'Europe & Central Asia (developing only)': 55, 'European Union': 55, 'Fragile and conflict affected situations': 55, 'Heavily indebted poor countries (HIPC)': 55, 'High income': 55, 'High income: nonOECD': 55, 'High income: OECD': 55, 'Latin America & Caribbean (all income levels)': 55, 'Latin America & Caribbean (developing only)': 55, 'Least developed countries: UN classification': 55, 'Low & middle income': 55, 'Low income': 55, 'Lower middle income': 55, 'Middle East & North Africa (all income levels)': 55, 'Middle East & North Africa (developing only)': 55, 'Middle income': 55, 'North America': 55, 'OECD members': 55, 'Other small states': 55, 'Pacific island small states': 55, 'Small states': 55, 'South Asia': 55, 'Sub-Saharan Africa (all income levels)': 55, 'Sub-Saharan Africa (developing only)': 55, 'Upper middle income': 55, 'World': 55, 'Afghanistan': 55, 'Albania': 55, 'Algeria': 55, 'American Samoa': 55, 'Andorra': 55, 'Angola': 55, 'Antigua and Barbuda': 55, 'Argentina': 55, 'Armenia': 55, 'Aruba': 55, 'Australia': 55, 'Austria': 55, 'Azerbaijan': 55, '\"Bahamas': 55, 'Bahrain': 55, 'Bangladesh': 55, 'Barbados': 55, 'Belarus': 55, 'Belgium': 55, 'Belize': 55, 'Benin': 55, 'Bermuda': 55, 'Bhutan': 55, 'Bolivia': 55, 'Bosnia and Herzegovina': 55, 'Botswana': 55, 'Brazil': 55, 'Brunei Darussalam': 55, 'Bulgaria': 55, 'Burkina Faso': 55, 'Burundi': 55, 'Cabo Verde': 55, 'Cambodia': 55, 'Cameroon': 55, 'Canada': 55, 'Cayman Islands': 55, 'Central African Republic': 55, 'Chad': 55, 'Channel Islands': 55, 'Chile': 55, 'China': 55, 'Colombia': 55, 'Comoros': 55, '\"Congo': 110, 'Costa Rica': 55, \"Cote d'Ivoire\": 55, 'Croatia': 55, 'Cuba': 55, 'Curacao': 55, 'Cyprus': 55, 'Czech Republic': 55, 'Denmark': 55, 'Djibouti': 55, 'Dominica': 55, 'Dominican Republic': 55, 'Ecuador': 55, '\"Egypt': 55, 'El Salvador': 55, 'Equatorial Guinea': 55, 'Eritrea': 55, 'Estonia': 55, 'Ethiopia': 55, 'Faeroe Islands': 55, 'Fiji': 55, 'Finland': 55, 'France': 55, 'French Polynesia': 55, 'Gabon': 55, '\"Gambia': 55, 'Georgia': 55, 'Germany': 55, 'Ghana': 55, 'Greece': 55, 'Greenland': 55, 'Grenada': 55, 'Guam': 55, 'Guatemala': 55, 'Guinea': 55, 'Guinea-Bissau': 55, 'Guyana': 55, 'Haiti': 55, 'Honduras': 55, '\"Hong Kong SAR': 55, 'Hungary': 55, 'Iceland': 55, 'India': 55, 'Indonesia': 55, '\"Iran': 55, 'Iraq': 55, 'Ireland': 55, 'Isle of Man': 55, 'Israel': 55, 'Italy': 55, 'Jamaica': 55, 'Japan': 55, 'Jordan': 55, 'Kazakhstan': 55, 'Kenya': 55, 'Kiribati': 55, '\"Korea': 110, 'Kuwait': 52, 'Kyrgyz Republic': 55, 'Lao PDR': 55, 'Latvia': 55, 'Lebanon': 55, 'Lesotho': 55, 'Liberia': 55, 'Libya': 55, 'Liechtenstein': 55, 'Lithuania': 55, 'Luxembourg': 55, '\"Macao SAR': 55, '\"Macedonia': 55, 'Madagascar': 55, 'Malawi': 55, 'Malaysia': 55, 'Maldives': 55, 'Mali': 55, 'Malta': 55, 'Marshall Islands': 55, 'Mauritania': 55, 'Mauritius': 55, 'Mexico': 55, '\"Micronesia': 55, 'Moldova': 55, 'Monaco': 55, 'Mongolia': 55, 'Montenegro': 55, 'Morocco': 55, 'Mozambique': 55, 'Myanmar': 55, 'Namibia': 55, 'Nepal': 55, 'Netherlands': 55, 'New Caledonia': 55, 'New Zealand': 55, 'Nicaragua': 55, 'Niger': 55, 'Nigeria': 55, 'Northern Mariana Islands': 55, 'Norway': 55, 'Oman': 55, 'Pakistan': 55, 'Palau': 55, 'Panama': 55, 'Papua New Guinea': 55, 'Paraguay': 55, 'Peru': 55, 'Philippines': 55, 'Poland': 55, 'Portugal': 55, 'Puerto Rico': 55, 'Qatar': 55, 'Romania': 55, 'Russian Federation': 55, 'Rwanda': 55, 'Samoa': 55, 'San Marino': 55, 'Sao Tome and Principe': 55, 'Saudi Arabia': 55, 'Senegal': 55, 'Seychelles': 55, 'Sierra Leone': 55, 'Singapore': 55, 'Slovak Republic': 55, 'Slovenia': 55, 'Solomon Islands': 55, 'Somalia': 55, 'South Africa': 55, 'South Sudan': 55, 'Spain': 55, 'Sri Lanka': 55, 'St. Kitts and Nevis': 55, 'St. Lucia': 55, 'St. Vincent and the Grenadines': 55, 'Sudan': 55, 'Suriname': 55, 'Swaziland': 55, 'Sweden': 55, 'Switzerland': 55, 'Syrian Arab Republic': 55, 'Tajikistan': 55, 'Tanzania': 55, 'Thailand': 55, 'Timor-Leste': 55, 'Togo': 55, 'Tonga': 55, 'Trinidad and Tobago': 55, 'Tunisia': 55, 'Turkey': 55, 'Turkmenistan': 55, 'Turks and Caicos Islands': 55, 'Tuvalu': 55, 'Uganda': 55, 'Ukraine': 55, 'United Arab Emirates': 55, 'United Kingdom': 55, 'United States': 55, 'Uruguay': 55, 'Uzbekistan': 55, 'Vanuatu': 55, '\"Venezuela': 55, 'Vietnam': 55, 'Virgin Islands (U.S.)': 55, '\"Yemen': 55, 'Zambia': 55, 'Zimbabwe': 55, 'Serbia': 25, 'West Bank and Gaza': 25, 'Sint Maarten (Dutch part)': 17}\n"
     ]
    }
   ],
   "source": [
    "def read_large_file(file):\n",
    "    for x in file:\n",
    "        yield x\n",
    "\n",
    "with open(\"C:\\\\Users\\\\saifs\\\\Desktop\\\\data_science\\\\datasets\\\\world_ind_pop_data.csv\", \"r\") as f:\n",
    "    f.readline()\n",
    "    d = {}\n",
    "    for current in read_large_file(f):\n",
    "        #print(current)\n",
    "        a_current = current.split(',')\n",
    "        if a_current[0] in d:\n",
    "            d[a_current[0]] += 1\n",
    "        else:\n",
    "            d[a_current[0]] = 1\n",
    "            \n",
    "    print(d)           "
   ]
  },
  {
   "cell_type": "markdown",
   "metadata": {},
   "source": [
    "10.  - Read in a file `ind_pop_data.csv` using a chunk size = 1000, use `df_pop_reader` as generator name, and then process the data from the first chunk `df_urb_pop`. Create another DataFrame `df_pop_ceb` composed of only the rows from a specific country. Filter values in `CountryCode` column equals to `CEB`. Then zip together two of the columns from the new DataFrame, 'Total Population' and 'Urban population (% of total)'. Finally, create a list of tuples `pop_list` from the zip object, where each tuple is composed of a value from each of the two columns mentioned. \n",
    "     - Use list comprehension to create new DataFrame column 'Total Urban Population in `df_pop_ceb`.\n",
    "     - Using the scenarios given above, create a new dataframe `data` and append the `df_pop_ceb` dataframe for every chunks of data. Also plot the `urban population data` vs `year` graph.\n",
    "     - Define the function `plot_pop()` which takes two arguments: the filename of the file to be processed, and the country code of the rows you want to process in the dataset. Because all of the previous code you've written in the previous exercises will be housed in plot_pop(), calling the function already does the following: \n",
    "         - Loading of the file chunk by chunk,\n",
    "         - Creating the new column of urban population values, and\n",
    "         - Plotting the urban population data."
   ]
  },
  {
   "cell_type": "code",
   "execution_count": 99,
   "metadata": {},
   "outputs": [
    {
     "data": {
      "text/html": [
       "<div>\n",
       "<style scoped>\n",
       "    .dataframe tbody tr th:only-of-type {\n",
       "        vertical-align: middle;\n",
       "    }\n",
       "\n",
       "    .dataframe tbody tr th {\n",
       "        vertical-align: top;\n",
       "    }\n",
       "\n",
       "    .dataframe thead th {\n",
       "        text-align: right;\n",
       "    }\n",
       "</style>\n",
       "<table border=\"1\" class=\"dataframe\">\n",
       "  <thead>\n",
       "    <tr style=\"text-align: right;\">\n",
       "      <th></th>\n",
       "      <th>Total Population</th>\n",
       "      <th>Urban population (% of total)</th>\n",
       "      <th>Total urban population</th>\n",
       "    </tr>\n",
       "  </thead>\n",
       "  <tbody>\n",
       "    <tr>\n",
       "      <th>2</th>\n",
       "      <td>91401583.0</td>\n",
       "      <td>44.507921</td>\n",
       "      <td>4.068094e+07</td>\n",
       "    </tr>\n",
       "  </tbody>\n",
       "</table>\n",
       "</div>"
      ],
      "text/plain": [
       "   Total Population  Urban population (% of total)  Total urban population\n",
       "2        91401583.0                      44.507921            4.068094e+07"
      ]
     },
     "execution_count": 99,
     "metadata": {},
     "output_type": "execute_result"
    }
   ],
   "source": [
    "def hello(row):\n",
    "    return row['Total Population'] * row['Urban population (% of total)']\n",
    "import pandas as pd\n",
    "df_pop_reader = pd.read_csv(\"C:\\\\Users\\\\saifs\\\\Desktop\\\\data_science\\\\datasets\\\\world_ind_pop_data.csv\",chunksize=100)\n",
    "df_urb_pop = next(df_pop_reader)\n",
    "df_pop_ceb = df_urb_pop[df_urb_pop.CountryCode == 'CEB'][['Total Population','Urban population (% of total)']]\n",
    "\n",
    "for index, row in df_pop_ceb.iterrows():\n",
    "    df_pop_ceb.loc[index,'Total urban population'] = (df_pop_ceb.loc[index,'Total Population'] * df_pop_ceb.loc[index,'Urban population (% of total)'])/100\n",
    "df_pop_ceb"
   ]
  },
  {
   "cell_type": "code",
   "execution_count": null,
   "metadata": {},
   "outputs": [],
   "source": []
  },
  {
   "cell_type": "code",
   "execution_count": null,
   "metadata": {},
   "outputs": [],
   "source": []
  }
 ],
 "metadata": {
  "kernelspec": {
   "display_name": "Python 3",
   "language": "python",
   "name": "python3"
  },
  "language_info": {
   "codemirror_mode": {
    "name": "ipython",
    "version": 3
   },
   "file_extension": ".py",
   "mimetype": "text/x-python",
   "name": "python",
   "nbconvert_exporter": "python",
   "pygments_lexer": "ipython3",
   "version": "3.7.3"
  }
 },
 "nbformat": 4,
 "nbformat_minor": 2
}
