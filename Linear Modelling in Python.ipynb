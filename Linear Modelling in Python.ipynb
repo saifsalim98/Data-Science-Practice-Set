{
 "cells": [
  {
   "cell_type": "markdown",
   "metadata": {},
   "source": [
    "1. Make a prediction for the value of the dependent variable `distances` for a given independent variable `times` that falls \"in between\" two measurements from a road trip, where the distances are those traveled for the given elapse times. Predict the distance traveled for a time 2.5 hrs.\n",
    "```Python\n",
    "times = [0.0, 1.0, 2.0, 3.0, 4.0, 5.0, 6.0]\n",
    "distances = [0.0, 44.045121526467675, 107.16353484213049, 148.43674051954144, 196.39705633317493,\n",
    "            254.4358147015387, 300.0]\n",
    "```"
   ]
  },
  {
   "cell_type": "code",
   "execution_count": 2,
   "metadata": {},
   "outputs": [
    {
     "name": "stdout",
     "output_type": "stream",
     "text": [
      "In 2.5 hrs, the car will travel 125.0 kms\n"
     ]
    }
   ],
   "source": [
    "times = [0.0, 1.0, 2.0, 3.0, 4.0, 5.0, 6.0]\n",
    "distances = [0.0, 44.045121526467675, 107.16353484213049, 148.43674051954144, 196.39705633317493,\n",
    "            254.4358147015387, 300.0]\n",
    "import numpy as np\n",
    "np_times = np.array(times)\n",
    "np_distances = np.array(distances)\n",
    "times_range = np_times[-1] - np_times[0]\n",
    "distances_range = np_distances[-1] - np_distances[0]\n",
    "speed = distances_range / times_range\n",
    "print(\"In 2.5 hrs, the car will travel {} kms\".format(speed*2.5))"
   ]
  },
  {
   "cell_type": "markdown",
   "metadata": {},
   "source": [
    "2. Visualize data given above\n",
    "   - Create figure and axis objects using `subplots()`\n",
    "   - Plot line using the `axis.plot(x, y, color=\"red\", linestyle=\"--\", marker=\"s\")` method \n",
    "   - Use the `plt.show()` method to display the figure\n",
    "### TAKEAWAY : \n",
    "    - Use \"o\" for dots, \"x\" for cross, \"s\" for squares, \"--\" for dashed line, \"-\" for solid line.\n",
    "    - None is a special object that is often used as a place-holder to be replaced by default values.\n",
    "    - So `linestyle=None` does not mean no line, it means the default which is a solid line style, whereas `marker=None` triggers the default marker, which happens to be no marker at all.\n",
    "    - If you use `color=None`, the resulting color will be blue, the default line color for matplotlib.\n",
    "    - Use `axis.grid(True)` to show grids"
   ]
  },
  {
   "cell_type": "code",
   "execution_count": 7,
   "metadata": {},
   "outputs": [
    {
     "data": {
      "image/png": "[encoded data removed]",
      "text/plain": [
       "<Figure size 432x288 with 1 Axes>"
      ]
     },
     "metadata": {
      "needs_background": "light"
     },
     "output_type": "display_data"
    }
   ],
   "source": [
    "%matplotlib inline\n",
    "import matplotlib.pyplot as plt\n",
    "fig, axis = plt.subplots()\n",
    "line = axis.plot(np_times, np_distances, marker=\"o\", linestyle=\"-\", color=\"red\")\n",
    "plt.show()"
   ]
  },
  {
   "cell_type": "code",
   "execution_count": 9,
   "metadata": {},
   "outputs": [
    {
     "data": {
      "text/plain": [
       "0.9039999999999999"
      ]
     },
     "execution_count": 9,
     "metadata": {},
     "output_type": "execute_result"
    }
   ],
   "source": [
    "(8.77 - 4.25) / 5\n"
   ]
  }
 ],
 "metadata": {
  "kernelspec": {
   "display_name": "Python 3",
   "language": "python",
   "name": "python3"
  },
  "language_info": {
   "codemirror_mode": {
    "name": "ipython",
    "version": 3
   },
   "file_extension": ".py",
   "mimetype": "text/x-python",
   "name": "python",
   "nbconvert_exporter": "python",
   "pygments_lexer": "ipython3",
   "version": "3.7.3"
  }
 },
 "nbformat": 4,
 "nbformat_minor": 2
}
