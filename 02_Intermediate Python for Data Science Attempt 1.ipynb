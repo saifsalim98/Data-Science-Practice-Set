{
 "cells": [
  {
   "cell_type": "markdown",
   "metadata": {},
   "source": [
    "1. `countries = ['spain', 'france', 'germany', 'norway']`, `capitals = ['madrid', 'paris', 'berlin', 'oslo']`\n",
    "  - Create a dictionary : europe\n",
    "  - Add 'italy' to europe with 'rome' as capital\n",
    "  - Delete entry for 'spain'\n",
    " \n",
    "### TAKEAWAY: If two lists are uneven, then zip will create a dict only having elements from both the for arrays"
   ]
  },
  {
   "cell_type": "code",
   "execution_count": 8,
   "metadata": {},
   "outputs": [
    {
     "name": "stdout",
     "output_type": "stream",
     "text": [
      "{'spain': 'madrid', 'france': 'paris', 'germany': 'berlin', 'norway': 'oslo'}\n",
      "{'france': 'paris', 'germany': 'berlin', 'norway': 'oslo', 'italy': 'rome'}\n"
     ]
    }
   ],
   "source": [
    "countries = ['spain', 'france', 'germany', 'norway']\n",
    "capitals = ['madrid', 'paris', 'berlin', 'oslo']\n",
    "europe = dict(zip(countries,capitals))\n",
    "print(europe)\n",
    "europe['italy']='rome'\n",
    "del(europe['spain'])\n",
    "print(europe)"
   ]
  },
  {
   "cell_type": "markdown",
   "metadata": {},
   "source": [
    "2. Create a DataFrame from the given lists (using dictionary) with row labels\n",
    "```Python\n",
    "names = ['United States', 'Australia', 'Japan', 'India', 'Russia', 'Morocco', 'Egypt'] # country\n",
    "dr =  [True, False, False, False, True, True, True] # drives_right\n",
    "cpc = [809, 731, 588, 18, 200, 70, 45] # cpc (cars_per_cap)\n",
    "row_labels = ['US', 'AUS', 'JPN', 'IN', 'RU', 'MOR', 'EG']\n",
    "```"
   ]
  },
  {
   "cell_type": "code",
   "execution_count": 32,
   "metadata": {},
   "outputs": [
    {
     "data": {
      "text/html": [
       "<div>\n",
       "<style scoped>\n",
       "    .dataframe tbody tr th:only-of-type {\n",
       "        vertical-align: middle;\n",
       "    }\n",
       "\n",
       "    .dataframe tbody tr th {\n",
       "        vertical-align: top;\n",
       "    }\n",
       "\n",
       "    .dataframe thead th {\n",
       "        text-align: right;\n",
       "    }\n",
       "</style>\n",
       "<table border=\"1\" class=\"dataframe\">\n",
       "  <thead>\n",
       "    <tr style=\"text-align: right;\">\n",
       "      <th></th>\n",
       "      <th>country</th>\n",
       "      <th>drives_right</th>\n",
       "      <th>cpc</th>\n",
       "    </tr>\n",
       "  </thead>\n",
       "  <tbody>\n",
       "    <tr>\n",
       "      <th>US</th>\n",
       "      <td>United States</td>\n",
       "      <td>True</td>\n",
       "      <td>809</td>\n",
       "    </tr>\n",
       "    <tr>\n",
       "      <th>AUS</th>\n",
       "      <td>Australia</td>\n",
       "      <td>False</td>\n",
       "      <td>731</td>\n",
       "    </tr>\n",
       "    <tr>\n",
       "      <th>JPN</th>\n",
       "      <td>Japan</td>\n",
       "      <td>False</td>\n",
       "      <td>588</td>\n",
       "    </tr>\n",
       "    <tr>\n",
       "      <th>IN</th>\n",
       "      <td>India</td>\n",
       "      <td>False</td>\n",
       "      <td>18</td>\n",
       "    </tr>\n",
       "    <tr>\n",
       "      <th>RU</th>\n",
       "      <td>Russia</td>\n",
       "      <td>True</td>\n",
       "      <td>200</td>\n",
       "    </tr>\n",
       "    <tr>\n",
       "      <th>MOR</th>\n",
       "      <td>Morocco</td>\n",
       "      <td>True</td>\n",
       "      <td>70</td>\n",
       "    </tr>\n",
       "    <tr>\n",
       "      <th>EG</th>\n",
       "      <td>Egypt</td>\n",
       "      <td>True</td>\n",
       "      <td>45</td>\n",
       "    </tr>\n",
       "  </tbody>\n",
       "</table>\n",
       "</div>"
      ],
      "text/plain": [
       "           country  drives_right  cpc\n",
       "US   United States          True  809\n",
       "AUS      Australia         False  731\n",
       "JPN          Japan         False  588\n",
       "IN           India         False   18\n",
       "RU          Russia          True  200\n",
       "MOR        Morocco          True   70\n",
       "EG           Egypt          True   45"
      ]
     },
     "execution_count": 32,
     "metadata": {},
     "output_type": "execute_result"
    }
   ],
   "source": [
    "import pandas as pd\n",
    "names = ['United States', 'Australia', 'Japan', 'India', 'Russia', 'Morocco', 'Egypt'] # country\n",
    "dr =  [True, False, False, False, True, True, True] # drives_right\n",
    "cpc = [809, 731, 588, 18, 200, 70, 45] # cpc (cars_per_cap)\n",
    "row_labels = ['US', 'AUS', 'JPN', 'IN', 'RU', 'MOR', 'EG']\n",
    "df = pd. DataFrame({\n",
    "    'country':names,\n",
    "    'drives_right':dr,\n",
    "    'cpc':cpc,\n",
    "}, index=row_labels)\n",
    "df"
   ]
  },
  {
   "cell_type": "markdown",
   "metadata": {},
   "source": [
    "3. Import cars data from \"C:\\Users\\saifs\\Desktop\\data_science\\datasets\\cars.csv\"\n",
    "  - Use first column as index column\n",
    "  - Print out country column as Pandas Series\n",
    "  - Print out country column as Pandas DataFrame\n",
    "  - Print out DataFrame with country and drives_right columns\n",
    "  - Print out first 3 observations\n",
    "  - Print out fourth, fifth and sixth observation\n",
    "  - Print out observation for Japan (using loc)\n",
    "  - Print out observations for Australia and Egypt (using loc)\n",
    "  - Print out drives_right value of Morocco (using loc)\n",
    "  - Print out a sub-DataFrame, containing the observations for Russia and Morocco and the columns 'country' and 'drives_right'\n",
    "  - Print out drives_right column as Series (using iloc)\n",
    "  - Print out drives_right column as DataFrame (using iloc)\n",
    "  - Print out cars_per_cap and drives_right as DataFrame (using iloc)"
   ]
  },
  {
   "cell_type": "code",
   "execution_count": 42,
   "metadata": {},
   "outputs": [
    {
     "name": "stdout",
     "output_type": "stream",
     "text": [
      "     cars_per_cap        country  drives_right\n",
      "US            809  United States          True\n",
      "AUS           731      Australia         False\n",
      "JAP           588          Japan         False\n",
      "IN             18          India         False\n",
      "RU            200         Russia          True\n",
      "US     United States\n",
      "AUS        Australia\n",
      "JAP            Japan\n",
      "IN             India\n",
      "RU            Russia\n",
      "MOR          Morocco\n",
      "EG             Egypt\n",
      "Name: country, dtype: object\n",
      "<class 'pandas.core.series.Series'>\n",
      "--------------------------------------------------\n",
      "           country\n",
      "US   United States\n",
      "AUS      Australia\n",
      "JAP          Japan\n",
      "IN           India\n",
      "RU          Russia\n",
      "MOR        Morocco\n",
      "EG           Egypt\n",
      "<class 'pandas.core.frame.DataFrame'>\n",
      "--------------------------------------------------\n",
      "           country  drives_right\n",
      "US   United States          True\n",
      "AUS      Australia         False\n",
      "JAP          Japan         False\n",
      "IN           India         False\n",
      "RU          Russia          True\n",
      "MOR        Morocco          True\n",
      "EG           Egypt          True\n",
      "--------------------------------------------------\n",
      "     cars_per_cap        country  drives_right\n",
      "US            809  United States          True\n",
      "AUS           731      Australia         False\n",
      "JAP           588          Japan         False\n",
      "--------------------------------------------------\n",
      "     cars_per_cap  country  drives_right\n",
      "IN             18    India         False\n",
      "RU            200   Russia          True\n",
      "MOR            70  Morocco          True\n",
      "--------------------------------------------------\n",
      "cars_per_cap      588\n",
      "country         Japan\n",
      "drives_right    False\n",
      "Name: JAP, dtype: object\n",
      "--------------------------------------------------\n",
      "     cars_per_cap    country  drives_right\n",
      "AUS           731  Australia         False\n",
      "EG             45      Egypt          True\n",
      "--------------------------------------------------\n",
      "True\n",
      "--------------------------------------------------\n",
      "     country  drives_right\n",
      "RU    Russia          True\n",
      "MOR  Morocco          True\n",
      "--------------------------------------------------\n",
      "US      True\n",
      "AUS    False\n",
      "JAP    False\n",
      "IN     False\n",
      "RU      True\n",
      "MOR     True\n",
      "EG      True\n",
      "Name: drives_right, dtype: bool\n",
      "<class 'pandas.core.series.Series'>\n",
      "--------------------------------------------------\n",
      "     drives_right\n",
      "US           True\n",
      "AUS         False\n",
      "JAP         False\n",
      "IN          False\n",
      "RU           True\n",
      "MOR          True\n",
      "EG           True\n",
      "<class 'pandas.core.frame.DataFrame'>\n",
      "--------------------------------------------------\n",
      "     cars_per_cap  drives_right\n",
      "US            809          True\n",
      "AUS           731         False\n",
      "JAP           588         False\n",
      "IN             18         False\n",
      "RU            200          True\n",
      "MOR            70          True\n",
      "EG             45          True\n"
     ]
    }
   ],
   "source": [
    "df = pd.read_csv(\"C:\\\\Users\\\\saifs\\\\Desktop\\\\data_science\\\\datasets\\\\cars.csv\", index_col=0)\n",
    "print(df.head())\n",
    "print(df['country'])\n",
    "print(type(df['country']))\n",
    "print('--------------------------------------------------')\n",
    "print(df[['country']])\n",
    "print(type(df[['country']]))\n",
    "print('--------------------------------------------------')\n",
    "print(df[['country','drives_right']])\n",
    "print('--------------------------------------------------')\n",
    "print(df.head(3))\n",
    "print('--------------------------------------------------')\n",
    "print(df[3:6])\n",
    "print('--------------------------------------------------')\n",
    "print(df.loc['JAP'])\n",
    "print('--------------------------------------------------')\n",
    "print(df.loc[['AUS','EG']])\n",
    "print('--------------------------------------------------')\n",
    "print(df.loc['MOR']['drives_right'])\n",
    "print('--------------------------------------------------')\n",
    "print(df.loc[['RU','MOR']][['country','drives_right']])\n",
    "print('--------------------------------------------------')\n",
    "print(df.iloc[:,2])\n",
    "print(type(df.iloc[:,2]))\n",
    "print('--------------------------------------------------')\n",
    "print(df.iloc[:,[2]])\n",
    "print(type(df.iloc[:,[2]]))\n",
    "print('--------------------------------------------------')\n",
    "print(df.iloc[:,[0,2]])"
   ]
  },
  {
   "cell_type": "markdown",
   "metadata": {},
   "source": [
    "4. ```Python\n",
    "import numpy as np\n",
    "my_house = np.array([18.0, 20.0, 10.75, 9.50])\n",
    "your_house = np.array([14.0, 24.0, 14.25, 9.0])\n",
    "```\n",
    "  - Which areas in my_house are greater than or equal to 18? \n",
    "  - Which areas in 'my_house' are smaller than the ones in 'your_house'?\n",
    "  - my_house greater than 18.5 or smaller than 10"
   ]
  },
  {
   "cell_type": "code",
   "execution_count": 1,
   "metadata": {},
   "outputs": [
    {
     "name": "stdout",
     "output_type": "stream",
     "text": [
      "[18. 20.]\n",
      "--------------------------------------------------\n",
      "[20.   10.75]\n",
      "--------------------------------------------------\n",
      "[20.   9.5]\n"
     ]
    }
   ],
   "source": [
    "import numpy as np\n",
    "my_house = np.array([18.0, 20.0, 10.75, 9.50])\n",
    "your_house = np.array([14.0, 24.0, 14.25, 9.0])\n",
    "print(my_house[my_house >= 18.0])\n",
    "print('--------------------------------------------------')\n",
    "print(my_house[my_house < your_house])\n",
    "print('--------------------------------------------------')\n",
    "print(my_house[np.logical_or(my_house > 18.5, my_house < 10)])"
   ]
  },
  {
   "cell_type": "markdown",
   "metadata": {},
   "source": [
    "5. Import cars data from \"C:\\Users\\saifs\\Desktop\\data_science\\datasets\\cars.csv\"\n",
    "  - Find all observations in `cars` where `drives_right` is `True`\n",
    "  - Find all observations that have a `cars_per_cap` over `500` : car_maniac\n",
    "  - Find all observations with `cars_per_cap` between `100` and `500`"
   ]
  },
  {
   "cell_type": "code",
   "execution_count": 56,
   "metadata": {
    "scrolled": true
   },
   "outputs": [
    {
     "name": "stdout",
     "output_type": "stream",
     "text": [
      "     cars_per_cap        country  drives_right\n",
      "US            809  United States          True\n",
      "AUS           731      Australia         False\n",
      "JAP           588          Japan         False\n",
      "IN             18          India         False\n",
      "RU            200         Russia          True\n",
      "--------------------------------------------------\n",
      "     cars_per_cap        country  drives_right\n",
      "US            809  United States          True\n",
      "RU            200         Russia          True\n",
      "MOR            70        Morocco          True\n",
      "EG             45          Egypt          True\n",
      "--------------------------------------------------\n",
      "     cars_per_cap        country  drives_right\n",
      "US            809  United States          True\n",
      "AUS           731      Australia         False\n",
      "JAP           588          Japan         False\n",
      "--------------------------------------------------\n",
      "    cars_per_cap country  drives_right\n",
      "RU           200  Russia          True\n"
     ]
    }
   ],
   "source": [
    "df = pd.read_csv(\"C:\\\\Users\\\\saifs\\\\Desktop\\\\data_science\\\\datasets\\\\cars.csv\", index_col=0)\n",
    "print(df.head())\n",
    "print('--------------------------------------------------')\n",
    "print(df[df['drives_right'] == True])\n",
    "print('--------------------------------------------------')\n",
    "print(df[df['cars_per_cap']>500])\n",
    "print('--------------------------------------------------')\n",
    "print(df[np.logical_and(df['cars_per_cap'] > 100, df['cars_per_cap'] < 500)])"
   ]
  },
  {
   "cell_type": "markdown",
   "metadata": {},
   "source": [
    "6. ```Python\n",
    "europe = {'spain':'madrid', 'france':'paris', 'germany':'berlin','norway':'oslo', 'italy':'rome', 'poland':'warsaw', 'austria':'vienna' }\n",
    "```\n",
    "  - Iterate over `europe` to print country and its capital"
   ]
  },
  {
   "cell_type": "code",
   "execution_count": 59,
   "metadata": {},
   "outputs": [
    {
     "name": "stdout",
     "output_type": "stream",
     "text": [
      "madrid is capital of spain\n",
      "paris is capital of france\n",
      "berlin is capital of germany\n",
      "oslo is capital of norway\n",
      "rome is capital of italy\n",
      "warsaw is capital of poland\n",
      "vienna is capital of austria\n"
     ]
    }
   ],
   "source": [
    "europe = {'spain':'madrid', 'france':'paris', 'germany':'berlin','norway':'oslo',\n",
    "          'italy':'rome', 'poland':'warsaw', 'austria':'vienna' }\n",
    "for k, v in europe.items():\n",
    "    print(v + \" is capital of \" + k)"
   ]
  },
  {
   "cell_type": "markdown",
   "metadata": {},
   "source": [
    "7. ```Python\n",
    "import pandas as pd\n",
    "df = pd.read_csv(\"C:\\\\Users\\\\saifs\\\\Desktop\\\\data_science\\\\datasets\\\\baseball.csv\")\n",
    "height = df['Height']\n",
    "np_height = height.values\n",
    "baseball = df[['Height','Weight']]\n",
    "np_baseball = baseball.values\n",
    "```\n",
    "  - Write a for loop that iterates over all elements in np_height and prints out \"x inches\" for each element\n",
    "  - Write a for loop that visits every element of the np_baseball array and prints it out"
   ]
  },
  {
   "cell_type": "code",
   "execution_count": 75,
   "metadata": {},
   "outputs": [
    {
     "name": "stdout",
     "output_type": "stream",
     "text": [
      "              Name Team       Position  Height  Weight    Age PosCategory\n",
      "0    Adam_Donachie  BAL        Catcher      74     180  22.99     Catcher\n",
      "1        Paul_Bako  BAL        Catcher      74     215  34.69     Catcher\n",
      "2  Ramon_Hernandez  BAL        Catcher      72     210  30.78     Catcher\n",
      "3     Kevin_Millar  BAL  First_Baseman      72     210  35.43   Infielder\n",
      "4      Chris_Gomez  BAL  First_Baseman      73     188  35.71   Infielder\n",
      "--------------------------------------------------\n",
      "[[ 74 180]\n",
      " [ 74 215]\n",
      " [ 72 210]\n",
      " [ 72 210]\n",
      " [ 73 188]\n",
      " [ 69 176]\n",
      " [ 69 209]\n",
      " [ 71 200]\n",
      " [ 76 231]\n",
      " [ 71 180]]\n",
      "--------------------------------------------------\n",
      "74 inches\n",
      "74 inches\n",
      "72 inches\n",
      "72 inches\n",
      "73 inches\n",
      "69 inches\n",
      "69 inches\n",
      "71 inches\n",
      "76 inches\n",
      "71 inches\n",
      "--------------------------------------------------\n",
      "Height:74 and Weight: 180\n",
      "Height:74 and Weight: 215\n",
      "Height:72 and Weight: 210\n",
      "Height:72 and Weight: 210\n",
      "Height:73 and Weight: 188\n",
      "Height:69 and Weight: 176\n",
      "Height:69 and Weight: 209\n",
      "Height:71 and Weight: 200\n",
      "Height:76 and Weight: 231\n",
      "Height:71 and Weight: 180\n"
     ]
    }
   ],
   "source": [
    "df = pd.read_csv(\"C:\\\\Users\\\\saifs\\\\Desktop\\\\data_science\\\\datasets\\\\baseball.csv\")\n",
    "print(df.head())\n",
    "print('--------------------------------------------------')\n",
    "height = df['Height']\n",
    "np_height = height[0:10].values\n",
    "#baseball = df.iloc[0:10][['Height','Weight']]\n",
    "baseball = df.iloc[0:10,[3,4]]\n",
    "np_baseball = baseball.values\n",
    "print(np_baseball)\n",
    "print('--------------------------------------------------')\n",
    "for x in np_height:\n",
    "    print(str(x) + \" inches\")\n",
    "print('--------------------------------------------------')\n",
    "for x in np_baseball:\n",
    "    print('Height:' + str(x[0]) + ' and Weight: ' + str(x[1]))"
   ]
  },
  {
   "cell_type": "markdown",
   "metadata": {},
   "source": [
    "8. - Write a for loop that iterates over the rows of `cars` DataFrame and on each iteration perform two print() calls: one to print out the row label and one to print out all of the rows contents\n",
    "  - Write a for loop that such that it prints out in the form `country: cars_per_cap`\n",
    "  - Use a for loop to add a new column, named `COUNTRY`, that contains a uppercase version of the country names in the `country` column. You can use the string method `upper()` for this\n",
    "  - Write a one-liner that should give the same result as above"
   ]
  },
  {
   "cell_type": "code",
   "execution_count": 103,
   "metadata": {
    "scrolled": false
   },
   "outputs": [
    {
     "name": "stdout",
     "output_type": "stream",
     "text": [
      "     cars_per_cap        country  drives_right\n",
      "US            809  United States          True\n",
      "AUS           731      Australia         False\n",
      "JAP           588          Japan         False\n",
      "IN             18          India         False\n",
      "RU            200         Russia          True\n",
      "--------------------------------------------------\n",
      "cars_per_cap\n",
      "US     809\n",
      "AUS    731\n",
      "JAP    588\n",
      "IN      18\n",
      "RU     200\n",
      "MOR     70\n",
      "EG      45\n",
      "Name: cars_per_cap, dtype: int64\n",
      "country\n",
      "US     United States\n",
      "AUS        Australia\n",
      "JAP            Japan\n",
      "IN             India\n",
      "RU            Russia\n",
      "MOR          Morocco\n",
      "EG             Egypt\n",
      "Name: country, dtype: object\n",
      "drives_right\n",
      "US      True\n",
      "AUS    False\n",
      "JAP    False\n",
      "IN     False\n",
      "RU      True\n",
      "MOR     True\n",
      "EG      True\n",
      "Name: drives_right, dtype: bool\n",
      "--------------------------------------------------\n",
      "United States: 809\n",
      "Australia: 731\n",
      "Japan: 588\n",
      "India: 18\n",
      "Russia: 200\n",
      "Morocco: 70\n",
      "Egypt: 45\n",
      "--------------------------------------------------\n",
      "     cars_per_cap        country  drives_right        COUNTRY\n",
      "US            809  United States          True  UNITED STATES\n",
      "AUS           731      Australia         False      AUSTRALIA\n",
      "JAP           588          Japan         False          JAPAN\n",
      "IN             18          India         False          INDIA\n",
      "RU            200         Russia          True         RUSSIA\n",
      "--------------------------------------------------\n",
      "     cars_per_cap        country  drives_right        COUNTRY    COUNTRY_NEW\n",
      "US            809  United States          True  UNITED STATES  UNITED STATES\n",
      "AUS           731      Australia         False      AUSTRALIA      AUSTRALIA\n",
      "JAP           588          Japan         False          JAPAN          JAPAN\n",
      "IN             18          India         False          INDIA          INDIA\n",
      "RU            200         Russia          True         RUSSIA         RUSSIA\n",
      "MOR            70        Morocco          True        MOROCCO        MOROCCO\n",
      "EG             45          Egypt          True          EGYPT          EGYPT\n"
     ]
    }
   ],
   "source": [
    "df = pd.read_csv(\"C:\\\\Users\\\\saifs\\\\Desktop\\\\data_science\\\\datasets\\\\cars.csv\", index_col=0)\n",
    "print(df.head())\n",
    "print('--------------------------------------------------')\n",
    "for col_index, cols in df.items():\n",
    "    print(col_index)\n",
    "    print(cols)\n",
    "print('--------------------------------------------------')\n",
    "for index, row in df.iterrows():\n",
    "    print(str(row['country']) + \": \" + str(row['cars_per_cap']))\n",
    "print('--------------------------------------------------')\n",
    "for index, row in df.iterrows():\n",
    "    df.loc[index,'COUNTRY'] = row['country'].upper()\n",
    "print(df.head())\n",
    "print('--------------------------------------------------')\n",
    "for index, row in df.iterrows():\n",
    "    df['COUNTRY_NEW'] = df['country'].apply(str.upper)\n",
    "print(df)"
   ]
  },
  {
   "cell_type": "markdown",
   "metadata": {},
   "source": [
    "9. - Set `seed` as 123 and generate and print a random float between 0 and 1\n",
    "   - Simulates a dice to randomly generate the integer 1, 2, 3, 4, 5 or 6."
   ]
  },
  {
   "cell_type": "code",
   "execution_count": 110,
   "metadata": {},
   "outputs": [
    {
     "name": "stdout",
     "output_type": "stream",
     "text": [
      "0.6964691855978616\n",
      "--------------------------------------------------\n",
      "3\n"
     ]
    }
   ],
   "source": [
    "np.random.seed(123)\n",
    "n = np.random.random()\n",
    "print(n)\n",
    "print('--------------------------------------------------')\n",
    "die = np.random.randint(1,7)\n",
    "print(die)"
   ]
  },
  {
   "cell_type": "markdown",
   "metadata": {},
   "source": [
    "10. In the Empire State Building bet, where one has to reach 60th floor starting from ground floor. Your move depends on the number of eyes you throw with the dice which will be thrown 100 times. \n",
    "  - If dice is 1 or 2, you go one step down.\n",
    "  - If dice is 3, 4 or 5, you go one step up.\n",
    "  - Else, you throw the dice again. The number of eyes is the number of steps you go up.\n",
    "  - Use a list `random_walk` that contains the first step, which is the integer 0\n",
    "  - Append `step` to `random_walk` after each iteration\n",
    "  - Use max to make sure step can't go below 0\n",
    "  - Visualize the `random_walk`"
   ]
  },
  {
   "cell_type": "code",
   "execution_count": 131,
   "metadata": {},
   "outputs": [
    {
     "name": "stdout",
     "output_type": "stream",
     "text": [
      "[0, 1, 2, 3, 2, 3, 7, 6, 7, 8, 9, 10, 11, 12, 11, 10, 15, 16, 15, 16, 17, 18, 19, 21, 20, 21, 22, 26, 27, 28, 27, 26, 25, 26, 25, 24, 25, 29, 30, 29, 30, 31, 35, 36, 37, 38, 39, 38, 39, 40, 41, 42, 41, 40, 42, 43, 42, 43, 44, 46, 47, 46, 47, 46, 47, 46, 47, 48, 52, 53, 52, 51, 50, 51, 50, 49, 48, 49, 48, 49, 48, 49, 52, 53, 54, 55, 56, 55, 56, 57, 60, 59, 58, 62, 66, 67, 68, 73, 74, 73]\n"
     ]
    },
    {
     "data": {
      "text/plain": [
       "<matplotlib.collections.PathCollection at 0x2127abd4e48>"
      ]
     },
     "execution_count": 131,
     "metadata": {},
     "output_type": "execute_result"
    },
    {
     "data": {
      "image/png": "[encoded data removed]",
      "text/plain": [
       "<Figure size 432x288 with 1 Axes>"
      ]
     },
     "metadata": {
      "needs_background": "light"
     },
     "output_type": "display_data"
    }
   ],
   "source": [
    "import matplotlib.pyplot as plt\n",
    "%matplotlib inline\n",
    "random_walk = [0]\n",
    "for n in range(1,100):\n",
    "    die = np.random.randint(1,7)\n",
    "    step = random_walk[-1]\n",
    "    if die < 3:\n",
    "        step = max(0,step - 1)\n",
    "    elif die < 6:\n",
    "        step = step + 1\n",
    "    else:\n",
    "        die = np.random.randint(1,7)\n",
    "        step = step + die\n",
    "    random_walk.append(step)\n",
    "print(random_walk)\n",
    "y_data = np.array(random_walk)\n",
    "x_data = np.linspace(1, 100, 100)\n",
    "plt.scatter(x_data,y_data)"
   ]
  },
  {
   "cell_type": "markdown",
   "metadata": {},
   "source": [
    "11. A single random walk is one thing, but that doesn't tell you if you have a good chance at winning the bet. To get an idea about how big your chances are of reaching 60 steps, you can repeatedly simulate the random walk and collect the results.\n",
    "  - Simulate the random walk 10 times and determine the probability of winning the bet\n",
    "  - Simulate the random walk 100 times and determine the probability of winning the bet"
   ]
  },
  {
   "cell_type": "code",
   "execution_count": 149,
   "metadata": {},
   "outputs": [
    {
     "name": "stdout",
     "output_type": "stream",
     "text": [
      "0.9\n"
     ]
    }
   ],
   "source": [
    "final_position = []\n",
    "for i in range(10):\n",
    "    random_walk = [0]\n",
    "    for n in range(1,100):\n",
    "        die = np.random.randint(1,7)\n",
    "        step = random_walk[-1]\n",
    "        if die < 3:\n",
    "            step = max(0,step - 1)\n",
    "        elif die < 6:\n",
    "            step = step + 1\n",
    "        else:\n",
    "            die = np.random.randint(1,7)\n",
    "            step = step + die\n",
    "        random_walk.append(step)\n",
    "    final_position.append(random_walk[-1])\n",
    "np_final_position = np.array(final_position)\n",
    "np_number_of_win = np_final_position[np_final_position>60]\n",
    "x = len(np_number_of_win)\n",
    "p_winning = x/10\n",
    "print(p_winning)"
   ]
  },
  {
   "cell_type": "code",
   "execution_count": 150,
   "metadata": {},
   "outputs": [
    {
     "name": "stdout",
     "output_type": "stream",
     "text": [
      "0.77\n"
     ]
    }
   ],
   "source": [
    "final_position = []\n",
    "for i in range(100):\n",
    "    random_walk = [0]\n",
    "    for n in range(1,100):\n",
    "        die = np.random.randint(1,7)\n",
    "        step = random_walk[-1]\n",
    "        if die < 3:\n",
    "            step = max(0,step - 1)\n",
    "        elif die < 6:\n",
    "            step = step + 1\n",
    "        else:\n",
    "            die = np.random.randint(1,7)\n",
    "            step = step + die\n",
    "        random_walk.append(step)\n",
    "    final_position.append(random_walk[-1])\n",
    "np_final_position = np.array(final_position)\n",
    "np_number_of_win = np_final_position[np_final_position>60]\n",
    "x = len(np_number_of_win)\n",
    "p_winning = x/100\n",
    "print(p_winning)"
   ]
  },
  {
   "cell_type": "code",
   "execution_count": null,
   "metadata": {},
   "outputs": [],
   "source": []
  }
 ],
 "metadata": {
  "kernelspec": {
   "display_name": "Python 3",
   "language": "python",
   "name": "python3"
  },
  "language_info": {
   "codemirror_mode": {
    "name": "ipython",
    "version": 3
   },
   "file_extension": ".py",
   "mimetype": "text/x-python",
   "name": "python",
   "nbconvert_exporter": "python",
   "pygments_lexer": "ipython3",
   "version": "3.7.3"
  }
 },
 "nbformat": 4,
 "nbformat_minor": 2
}
