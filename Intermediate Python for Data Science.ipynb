{
 "cells": [
  {
   "cell_type": "markdown",
   "metadata": {},
   "source": [
    "1. `countries = ['spain', 'france', 'germany', 'norway']`, `capitals = ['madrid', 'paris', 'berlin', 'oslo']`\n",
    "  - Create a dictionary : europe\n",
    "  - Add 'italy' to europe with 'rome' as capital\n",
    "  - Delete entry for 'spain'"
   ]
  },
  {
   "cell_type": "markdown",
   "metadata": {},
   "source": [
    "2. Create a DataFrame from the given lists (using dictionary) with row labels\n",
    "```Python\n",
    "names = ['United States', 'Australia', 'Japan', 'India', 'Russia', 'Morocco', 'Egypt'] # country\n",
    "dr =  [True, False, False, False, True, True, True] # drives_right\n",
    "cpc = [809, 731, 588, 18, 200, 70, 45] # cpc (cars_per_cap)\n",
    "row_labels = ['US', 'AUS', 'JPN', 'IN', 'RU', 'MOR', 'EG']\n",
    "```"
   ]
  },
  {
   "cell_type": "markdown",
   "metadata": {},
   "source": [
    "3. Import cars data from \"C:\\Users\\saifs\\Desktop\\data_science\\datasets\\cars.csv\"\n",
    "  - Use first column as index column\n",
    "  - Print out country column as Pandas Series\n",
    "  - Print out country column as Pandas DataFrame\n",
    "  - Print out DataFrame with country and drives_right columns\n",
    "  - Print out first 3 observations\n",
    "  - Print out fourth, fifth and sixth observation\n",
    "  - Print out observation for Japan (using loc)\n",
    "  - Print out observations for Australia and Egypt (using loc)\n",
    "  - Print out drives_right value of Morocco (using loc)\n",
    "  - Print out a sub-DataFrame, containing the observations for Russia and Morocco and the columns 'country' and 'drives_right'\n",
    "  - Print out drives_right column as Series (using iloc)\n",
    "  - Print out drives_right column as DataFrame (using iloc)\n",
    "  - Print out cars_per_cap and drives_right as DataFrame (using iloc)"
   ]
  },
  {
   "cell_type": "markdown",
   "metadata": {},
   "source": [
    "4. ```Python\n",
    "import numpy as np\n",
    "my_house = np.array([18.0, 20.0, 10.75, 9.50])\n",
    "your_house = np.array([14.0, 24.0, 14.25, 9.0])\n",
    "```\n",
    "  - Which areas in my_house are greater than or equal to 18? \n",
    "  - Which areas in 'my_house' are smaller than the ones in 'your_house'?\n",
    "  - my_house greater than 18.5 or smaller than 10\n",
    "  - Both my_house and your_house smaller than 11"
   ]
  },
  {
   "cell_type": "markdown",
   "metadata": {},
   "source": [
    "5. Import cars data from \"C:\\Users\\saifs\\Desktop\\data_science\\datasets\\cars.csv\"\n",
    "  - Find all observations in `cars` where `drives_right` is `True`\n",
    "  - Find all observations that have a `cars_per_cap` over `500` : car_maniac\n",
    "  - Find all observations with `cars_per_cap` between `100` and `500`"
   ]
  },
  {
   "cell_type": "markdown",
   "metadata": {},
   "source": [
    "6. ```Python\n",
    "europe = {'spain':'madrid', 'france':'paris', 'germany':'berlin','norway':'oslo', 'italy':'rome', 'poland':'warsaw', 'austria':'vienna' }\n",
    "```\n",
    "  - Iterate over `europe` to print country and its capital"
   ]
  },
  {
   "cell_type": "markdown",
   "metadata": {},
   "source": [
    "7. ```Python\n",
    "import pandas as pd\n",
    "df = pd.read_csv(\"C:\\\\Users\\\\saifs\\\\Desktop\\\\data_science\\\\datasets\\\\baseball.csv\")\n",
    "height = df['Height']\n",
    "np_height = height.values\n",
    "baseball = df[['Height','Weight']]\n",
    "np_baseball = baseball.values\n",
    "```\n",
    "  - Write a for loop that iterates over all elements in np_height and prints out \"x inches\" for each element\n",
    "  - Write a for loop that visits every element of the np_baseball array and prints it out"
   ]
  },
  {
   "cell_type": "markdown",
   "metadata": {},
   "source": [
    "8. - Write a for loop that iterates over the rows of `cars` DataFrame and on each iteration perform two print() calls: one to print out the row label and one to print out all of the rows contents\n",
    "  - Write a for loop that such that it prints out in the form `country: cars_per_cap`\n",
    "  - Use a for loop to add a new column, named `COUNTRY`, that contains a uppercase version of the country names in the `country` column. You can use the string method `upper()` for this\n",
    "  - Write a one-liner that should give the same result as above"
   ]
  },
  {
   "cell_type": "markdown",
   "metadata": {},
   "source": [
    "9. - Set `seed` as 123 and generate and print a random float between 0 and 1\n",
    "   - Simulates a dice to randomly generate the integer 1, 2, 3, 4, 5 or 6."
   ]
  },
  {
   "cell_type": "markdown",
   "metadata": {},
   "source": [
    "10. In the Empire State Building bet, where one has to reach 60th floor starting from ground floor. Your move depends on the number of eyes you throw with the dice which will be thrown 100 times. \n",
    "  - If dice is 1 or 2, you go one step down.\n",
    "  - If dice is 3, 4 or 5, you go one step up.\n",
    "  - Else, you throw the dice again. The number of eyes is the number of steps you go up.\n",
    "  - Use a list `random_walk` that contains the first step, which is the integer 0\n",
    "  - Append `step` to `random_walk` after each iteration\n",
    "  - Use max to make sure step can't go below 0\n",
    "  - Visualize the `random_walk`"
   ]
  },
  {
   "cell_type": "markdown",
   "metadata": {},
   "source": [
    "11. A single random walk is one thing, but that doesn't tell you if you have a good chance at winning the bet. To get an idea about how big your chances are of reaching 60 steps, you can repeatedly simulate the random walk and collect the results.\n",
    "  - Simulate the random walk 10 times and determine the probability of winning the bet\n",
    "  - Simulate the random walk 100 times and determine the probability of winning the bet"
   ]
  }
 ],
 "metadata": {
  "kernelspec": {
   "display_name": "Python 3",
   "language": "python",
   "name": "python3"
  },
  "language_info": {
   "codemirror_mode": {
    "name": "ipython",
    "version": 3
   },
   "file_extension": ".py",
   "mimetype": "text/x-python",
   "name": "python",
   "nbconvert_exporter": "python",
   "pygments_lexer": "ipython3",
   "version": "3.7.3"
  }
 },
 "nbformat": 4,
 "nbformat_minor": 2
}
